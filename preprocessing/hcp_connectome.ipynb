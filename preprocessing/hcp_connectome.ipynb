{
 "cells": [
  {
   "cell_type": "code",
   "execution_count": 1,
   "id": "635de414",
   "metadata": {},
   "outputs": [],
   "source": [
    "src_dir = '/home/paolo/Datasets/IntraOpMap/data/hcp_connectome'\n",
    "out_dir = '/home/paolo/Datasets/IntraOpMap/data/sandbox'"
   ]
  },
  {
   "cell_type": "code",
   "execution_count": 2,
   "id": "1a7ca3c0",
   "metadata": {},
   "outputs": [],
   "source": [
    "import os\n",
    "import sys"
   ]
  },
  {
   "cell_type": "code",
   "execution_count": 6,
   "id": "5afab4c5",
   "metadata": {},
   "outputs": [],
   "source": [
    "sub = '104012'\n",
    "sub_dir = os.path.join(src_dir, 'sub-%s' % sub)"
   ]
  },
  {
   "cell_type": "code",
   "execution_count": null,
   "id": "9cb33d63",
   "metadata": {},
   "outputs": [],
   "source": []
  },
  {
   "cell_type": "code",
   "execution_count": 9,
   "id": "71d78bfe",
   "metadata": {},
   "outputs": [],
   "source": [
    "roi = 'VISUOSPATIAL'\n",
    "max_seed = 10000\n",
    "max_length = 200\n",
    "angle = 45\n",
    "cutoff = 0.006\n",
    "roi_stop = '%s/sub-%s_acpc_5tt_dseg.mif' % (sub_dir, sub)\n",
    "roi_seed = '%s/des-subcortical_batch-ALL_roi-%s.nii.gz' % (out_dir,roi)\n",
    "fod_wm = '%s/sub-%s_wm_fod.mif' % (sub_dir, sub)\n",
    "tck_out = '%s/sub-%s_roi-%s.tck' % (out_dir, sub, roi)\n",
    "cmd = \"tckgen -algorithm SD_stream %s %s -seeds %d -include %s -stop -seed_image %s -maxlength %d -angle %d -cutoff %f -force\" % (fod_wm, tck_out, max_seed, roi_stop, roi_seed, max_length, angle, cutoff)\n",
    "#os.system(cmd)"
   ]
  },
  {
   "cell_type": "code",
   "execution_count": 10,
   "id": "4df9aa9e",
   "metadata": {},
   "outputs": [
    {
     "data": {
      "text/plain": [
       "'tckgen -algorithm SD_stream /home/paolo/Datasets/IntraOpMap/data/hcp_connectome/sub-104012/sub-104012_wm_fod.mif /home/paolo/Datasets/IntraOpMap/data/sandbox/sub-104012_roi-VISUOSPATIAL.tck -seeds 10000 -include /home/paolo/Datasets/IntraOpMap/data/hcp_connectome/sub-104012/sub-104012_acpc_5tt_dseg.mif -stop -seed_image /home/paolo/Datasets/IntraOpMap/data/sandbox/des-subcortical_batch-ALL_roi-VISUOSPATIAL.nii.gz -maxlength 200 -angle 45 -cutoff 0.006000 -force'"
      ]
     },
     "execution_count": 10,
     "metadata": {},
     "output_type": "execute_result"
    }
   ],
   "source": [
    "cmd"
   ]
  },
  {
   "cell_type": "code",
   "execution_count": null,
   "id": "a4da3758",
   "metadata": {},
   "outputs": [],
   "source": []
  }
 ],
 "metadata": {
  "kernelspec": {
   "display_name": "Python 3 (ipykernel)",
   "language": "python",
   "name": "python3"
  },
  "language_info": {
   "codemirror_mode": {
    "name": "ipython",
    "version": 3
   },
   "file_extension": ".py",
   "mimetype": "text/x-python",
   "name": "python",
   "nbconvert_exporter": "python",
   "pygments_lexer": "ipython3",
   "version": "3.7.13"
  }
 },
 "nbformat": 4,
 "nbformat_minor": 5
}
