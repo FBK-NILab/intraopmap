{
 "cells": [
  {
   "cell_type": "code",
   "execution_count": 3,
   "id": "edccedea",
   "metadata": {},
   "outputs": [],
   "source": [
    "src_dir = '/home/paolo/Datasets/IntraOpMap/data/map_to_surf'"
   ]
  },
  {
   "cell_type": "code",
   "execution_count": 41,
   "id": "3ce73148",
   "metadata": {},
   "outputs": [],
   "source": [
    "src_dir = '/Volumes/GoogleDrive/My Drive/Projects/NeuSurPlan_2021/IntraOpMap/Data/derivatives/map_to_surf'"
   ]
  },
  {
   "cell_type": "code",
   "execution_count": 4,
   "id": "2fc6c036",
   "metadata": {},
   "outputs": [],
   "source": [
    "import os\n",
    "import csv\n",
    "import numpy as np\n",
    "import nibabel as nib\n",
    "import dipy.tracking.utils as tu"
   ]
  },
  {
   "cell_type": "code",
   "execution_count": 28,
   "id": "07c5b871",
   "metadata": {},
   "outputs": [],
   "source": [
    "def split_map_by_hemi(src, out, emi='lh'):\n",
    "    \n",
    "    img = nib.load(src)\n",
    "    vox_size = img.header.get_zooms()\n",
    "    shape = img.header.get_data_shape()\n",
    "    data = img.get_fdata()\n",
    "    affine = img.affine\n",
    "    header = img.header\n",
    "    x_min = 1+ shape[0]/2\n",
    "    x_max = shape[0]-1\n",
    "      \n",
    "    if emi == 'lh':\n",
    "        data[0:91,:,:] = 0.0\n",
    "    if emi == 'rh':\n",
    "        data[90:182,:,:] = 0.0\n",
    "    \n",
    "    nii = nib.Nifti1Image(data, affine, header)\n",
    "    nii.update_header()\n",
    "    nib.save(nii, out)"
   ]
  },
  {
   "cell_type": "code",
   "execution_count": 29,
   "id": "696a1224",
   "metadata": {},
   "outputs": [],
   "source": [
    "roi = 'SEMANTIC'\n",
    "emi = 'lh'\n",
    "src_nii = os.path.join(src_dir, \"map-cortical_batch-ALL_roi-%s.nii.gz\" % roi)\n",
    "out_nii = os.path.join(src_dir, \"map-cortical_batch-ALL_roi-%s_emi-%s.nii.gz\" % (roi, emi))\n",
    "split_map_by_hemi(src_nii, out_nii)"
   ]
  },
  {
   "cell_type": "code",
   "execution_count": 32,
   "id": "4eb11727",
   "metadata": {},
   "outputs": [
    {
     "data": {
      "text/plain": [
       "0"
      ]
     },
     "execution_count": 32,
     "metadata": {},
     "output_type": "execute_result"
    }
   ],
   "source": [
    "thr = '0.7'\n",
    "roi = 'SEMANTIC'\n",
    "emi = 'lh'\n",
    "src = os.path.join(src_dir, \"map-cortical_batch-ALL_roi-%s_emi-%s.nii.gz\" % (roi, emi))\n",
    "out = os.path.join(src_dir, \"map-cortical_batch-ALL_roi-%s_emi-%s_thr-%s.nii.gz\" % (roi, emi, thr.replace(\".\", \"\")))\n",
    "cmd = 'fslmaths %s -thr %s %s' % (src, thr, out)\n",
    "os.system(cmd)"
   ]
  },
  {
   "cell_type": "code",
   "execution_count": 42,
   "id": "3bda0b82",
   "metadata": {},
   "outputs": [
    {
     "data": {
      "text/plain": [
       "\"mri_vol2surf --mov '/Volumes/GoogleDrive/My Drive/Projects/NeuSurPlan_2021/IntraOpMap/Data/derivatives/map_to_surf/map-cortical_batch-ALL_roi-SEMANTIC_emi-lh_thr-07.nii.gz' --surf pial --mni152reg --out '/Volumes/GoogleDrive/My Drive/Projects/NeuSurPlan_2021/IntraOpMap/Data/derivatives/map_to_surf/map-cortical_batch-ALL_roi-SEMANTIC_emi-lh_thr-07.gii' --hemi lh\""
      ]
     },
     "execution_count": 42,
     "metadata": {},
     "output_type": "execute_result"
    }
   ],
   "source": [
    "thr = '0.7'\n",
    "roi = 'SEMANTIC'\n",
    "emi = 'lh'\n",
    "src_vol = os.path.join(src_dir, \"map-cortical_batch-ALL_roi-%s_emi-%s_thr-%s.nii.gz\" % (roi, emi, thr.replace(\".\", \"\")))\n",
    "out_gii = os.path.join(src_dir, \"map-cortical_batch-ALL_roi-%s_emi-%s_thr-%s.gii\" % (roi, emi, thr.replace(\".\", \"\")))\n",
    "cmd = \"mri_vol2surf --mov '%s' --surf pial --mni152reg --out '%s' --hemi lh\" % (src_vol, out_gii)\n",
    "cmd\n",
    "#os.system(cmd)"
   ]
  },
  {
   "cell_type": "code",
   "execution_count": null,
   "id": "f1e41290",
   "metadata": {},
   "outputs": [],
   "source": []
  }
 ],
 "metadata": {
  "kernelspec": {
   "display_name": "Python 3 (ipykernel)",
   "language": "python",
   "name": "python3"
  },
  "language_info": {
   "codemirror_mode": {
    "name": "ipython",
    "version": 3
   },
   "file_extension": ".py",
   "mimetype": "text/x-python",
   "name": "python",
   "nbconvert_exporter": "python",
   "pygments_lexer": "ipython3",
   "version": "3.7.13"
  }
 },
 "nbformat": 4,
 "nbformat_minor": 5
}
