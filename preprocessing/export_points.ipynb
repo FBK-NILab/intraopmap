{
 "cells": [
  {
   "cell_type": "markdown",
   "metadata": {},
   "source": [
    "Convert the source csv file into two csv files, for cortical and subcortical points respectively, with the following columns: roi label, subject ID, x, y, z."
   ]
  },
  {
   "cell_type": "markdown",
   "metadata": {},
   "source": [
    "---"
   ]
  },
  {
   "cell_type": "markdown",
   "metadata": {},
   "source": [
    "Dataset specific info"
   ]
  },
  {
   "cell_type": "code",
   "execution_count": null,
   "metadata": {},
   "outputs": [],
   "source": [
    "src_csv = '../data/Final_Cortical_DES_041121SN_ID.csv'"
   ]
  },
  {
   "cell_type": "code",
   "execution_count": null,
   "metadata": {},
   "outputs": [],
   "source": [
    "out_csv_cortical = '../data/des_points_cortical.csv'\n",
    "out_csv_subcortical = '../data/des_points_subcortical.csv'"
   ]
  },
  {
   "cell_type": "markdown",
   "metadata": {},
   "source": [
    "Definition of labels for ROIs"
   ]
  },
  {
   "cell_type": "code",
   "execution_count": null,
   "metadata": {},
   "outputs": [],
   "source": [
    "cortical_lab = {}\n",
    "cortical_lab['speech_arrest'] = 4\n",
    "cortical_lab['semantic_paraphasia'] = 5\n",
    "cortical_lab['articulary_disorders'] = 6\n",
    "cortical_lab['phonological_aphasia'] = 7\n",
    "cortical_lab['anomia'] = 8\n",
    "cortical_lab['amodal_anomia'] = 9\n",
    "cortical_lab['motor_dystonia'] = 10\n",
    "cortical_lab['movement_arrest'] = 11\n",
    "cortical_lab['face_movement'] = 12\n",
    "cortical_lab['visual'] = 13\n",
    "cortical_lab['sensorial'] = 14\n",
    "cortical_lab['mentalizing'] = 15\n",
    "cortical_lab['vocalisation'] = 17\n",
    "cortical_lab['visuo_spatial'] = 18\n",
    "cortical_lab['hypophonia'] = 19\n",
    "cortical_lab['perseverations'] = 20\n",
    "cortical_lab['complex_behavioral_reaction'] = 22\n",
    "cortical_lab['self_evaluation'] = 23\n",
    "cortical_lab['eyes_movements'] = 24\n",
    "cortical_lab['reading'] = 25\n",
    "cortical_lab['echolalia'] = 26\n"
   ]
  },
  {
   "cell_type": "code",
   "execution_count": null,
   "metadata": {},
   "outputs": [],
   "source": [
    "subcortical_lab = {}\n",
    "subcortical_lab['motor'] = 29\n",
    "subcortical_lab['sensorial'] = 30\n",
    "subcortical_lab['speech_arrest'] = 31\n",
    "subcortical_lab['movement_arrest'] = 32\n",
    "subcortical_lab['verbal_arrest'] = 33\n",
    "subcortical_lab['anomia'] = 34\n",
    "subcortical_lab['semantic_anomia'] = 35\n",
    "subcortical_lab['phonological_anomia'] = 36\n",
    "subcortical_lab['involuntary_movements'] = 37\n",
    "subcortical_lab['visual'] = 38\n",
    "subcortical_lab['visuo_spatial'] = 39\n",
    "subcortical_lab['verbal_apraxia'] = 40\n",
    "subcortical_lab['amodal_anomia'] = 41\n",
    "subcortical_lab['reading'] = 42\n",
    "subcortical_lab['eyes_movements'] = 43\n",
    "subcortical_lab['psychiatric_reactions'] = 44\n",
    "subcortical_lab['mentalizing'] = 45\n",
    "subcortical_lab['acoustic_responses'] = 46\n",
    "subcortical_lab['vertigo'] = 47\n",
    "subcortical_lab['perseveration'] = 48"
   ]
  },
  {
   "cell_type": "code",
   "execution_count": null,
   "metadata": {},
   "outputs": [],
   "source": [
    "num_sub = 307"
   ]
  },
  {
   "cell_type": "code",
   "execution_count": 160,
   "metadata": {},
   "outputs": [],
   "source": [
    "bad_sub = ['KAGKNIKO']"
   ]
  },
  {
   "cell_type": "markdown",
   "metadata": {},
   "source": [
    "---"
   ]
  },
  {
   "cell_type": "code",
   "execution_count": 129,
   "metadata": {},
   "outputs": [],
   "source": [
    "import csv\n",
    "import re\n",
    "import numpy as np"
   ]
  },
  {
   "cell_type": "markdown",
   "metadata": {},
   "source": [
    "Load the CVS file with comma separation"
   ]
  },
  {
   "cell_type": "code",
   "execution_count": null,
   "metadata": {},
   "outputs": [],
   "source": [
    "csv_fd = open(src_csv)\n",
    "csv_reader = csv.reader(csv_fd)\n",
    "csv_header = next(csv_reader)\n",
    "csv_rows = []\n",
    "for row in csv_reader:\n",
    "    csv_rows.append(row)\n",
    "csv_fd.close()"
   ]
  },
  {
   "cell_type": "markdown",
   "metadata": {},
   "source": [
    "Check the correspondence between labels and columns"
   ]
  },
  {
   "cell_type": "code",
   "execution_count": null,
   "metadata": {},
   "outputs": [],
   "source": [
    "for lab in list(cortical_lab.keys()):\n",
    "    print(lab,csv_header[cortical_lab[lab]])"
   ]
  },
  {
   "cell_type": "code",
   "execution_count": null,
   "metadata": {},
   "outputs": [],
   "source": [
    "for lab in list(subcortical_lab.keys()):\n",
    "    print(lab,csv_header[subcortical_lab[lab]])"
   ]
  },
  {
   "cell_type": "markdown",
   "metadata": {},
   "source": [
    "Extract 3D points and write to file"
   ]
  },
  {
   "cell_type": "code",
   "execution_count": 183,
   "metadata": {},
   "outputs": [],
   "source": [
    "def extract_3d_points(roi, out_csv, num_sub, bad_sub):\n",
    "    with open(out_csv, 'w') as out_csv_fd:\n",
    "        sep = \",\"\n",
    "        for lab in list(roi.keys()):\n",
    "            for row in range(num_sub):\n",
    "                roi_col = roi[lab]\n",
    "                sub = csv_rows[row][0]\n",
    "                if not sub in bad_sub:\n",
    "                    pts = re.sub(\"\\([A-Z,a-z,0-9,\\-,+,\\ ,/,\\',à]*\\)|[A-Z,a-z]|\\'|;|:|\\+|\\/\", ' ', csv_rows[row][roi_col])\n",
    "                    pts = re.sub(\"\\(|\\)\", ' ', pts)\n",
    "                    pts = [x for x in pts.split(' ') if x]\n",
    "                    if not(len(pts)%3):\n",
    "                        pts_xyz = [pts[i:i+3] for i in range(0, len(pts), 3)]\n",
    "                        for x,y,z in pts_xyz:\n",
    "                            out_csv_fd.write(\"%s%s%s%s%s%s%s%s%s\\n\" % (lab, sep, sub, sep, x, sep, y, sep, z))\n",
    "                    else:\n",
    "                        print(\"WARNING - Value is not a 3D point\")\n",
    "                        print(\"ID: %s, LAB: %s, PTS: %s\" % (sub, lab, pts))\n",
    "                        print(\"SRC: %s\" % csv_rows[row][roi_col])"
   ]
  },
  {
   "cell_type": "code",
   "execution_count": null,
   "metadata": {},
   "outputs": [],
   "source": [
    "extract_3d_points(cortical_lab, out_csv_cortical, num_sub, bad_sub)"
   ]
  },
  {
   "cell_type": "code",
   "execution_count": 186,
   "metadata": {},
   "outputs": [],
   "source": [
    "extract_3d_points(subcortical_lab, out_csv_subcortical, num_sub, bad_sub)"
   ]
  },
  {
   "cell_type": "markdown",
   "metadata": {},
   "source": [
    "Points Analytics"
   ]
  },
  {
   "cell_type": "code",
   "execution_count": 151,
   "metadata": {},
   "outputs": [],
   "source": [
    "def pts_stat(src_csv, roi_dict):\n",
    "    csv_fd = open(src_csv)\n",
    "    csv_reader = csv.reader(csv_fd)\n",
    "    csv_rows = []\n",
    "    for row in csv_reader:\n",
    "        csv_rows.append(row)\n",
    "    csv_fd.close()\n",
    "    roi_lab = list(roi_dict.keys())\n",
    "    roi_stat = np.zeros(len(roi_lab))\n",
    "    for lab in range(len(csv_rows)):\n",
    "        lab_idx = roi_lab.index(csv_rows[lab][0])\n",
    "        roi_stat[lab_idx] += 1\n",
    "    for lab in range(len(roi_lab)):\n",
    "        print(\"%30s: %d\" % (roi_lab[lab], roi_stat[lab]))\n",
    "    print(\"%30s: %d\" % (\"TOTAL NUMBER OF POINTS\", roi_stat.sum()))"
   ]
  },
  {
   "cell_type": "code",
   "execution_count": 185,
   "metadata": {},
   "outputs": [
    {
     "name": "stdout",
     "output_type": "stream",
     "text": [
      "                 speech_arrest: 332\n",
      "           semantic_paraphasia: 46\n",
      "          articulary_disorders: 259\n",
      "          phonological_aphasia: 7\n",
      "                        anomia: 108\n",
      "                 amodal_anomia: 79\n",
      "                motor_dystonia: 123\n",
      "               movement_arrest: 324\n",
      "                 face_movement: 156\n",
      "                        visual: 7\n",
      "                     sensorial: 161\n",
      "                   mentalizing: 47\n",
      "                  vocalisation: 47\n",
      "                 visuo_spatial: 10\n",
      "                    hypophonia: 14\n",
      "                perseverations: 0\n",
      "   complex_behavioral_reaction: 0\n",
      "               self_evaluation: 2\n",
      "                eyes_movements: 8\n",
      "                       reading: 1\n",
      "                     echolalia: 2\n",
      "        TOTAL NUMBER OF POINTS: 1733\n"
     ]
    }
   ],
   "source": [
    "pts_stat(out_csv_cortical, cortical_lab)"
   ]
  },
  {
   "cell_type": "code",
   "execution_count": 187,
   "metadata": {},
   "outputs": [
    {
     "name": "stdout",
     "output_type": "stream",
     "text": [
      "                         motor: 31\n",
      "                     sensorial: 25\n",
      "                 speech_arrest: 30\n",
      "               movement_arrest: 60\n",
      "                 verbal_arrest: 33\n",
      "                        anomia: 35\n",
      "               semantic_anomia: 127\n",
      "           phonological_anomia: 32\n",
      "         involuntary_movements: 0\n",
      "                        visual: 24\n",
      "                 visuo_spatial: 4\n",
      "                verbal_apraxia: 24\n",
      "                 amodal_anomia: 0\n",
      "                       reading: 1\n",
      "                eyes_movements: 5\n",
      "         psychiatric_reactions: 0\n",
      "                   mentalizing: 61\n",
      "            acoustic_responses: 3\n",
      "                       vertigo: 3\n",
      "                 perseveration: 15\n",
      "        TOTAL NUMBER OF POINTS: 513\n"
     ]
    }
   ],
   "source": [
    "pts_stat(out_csv_subcortical, subcortical_lab)"
   ]
  },
  {
   "cell_type": "code",
   "execution_count": null,
   "metadata": {},
   "outputs": [],
   "source": []
  }
 ],
 "metadata": {
  "kernelspec": {
   "display_name": "Python 3",
   "language": "python",
   "name": "python3"
  }
 },
 "nbformat": 4,
 "nbformat_minor": 2
}
