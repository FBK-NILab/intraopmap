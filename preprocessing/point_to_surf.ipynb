{
 "cells": [
  {
   "cell_type": "code",
   "execution_count": 45,
   "id": "92cdd41f",
   "metadata": {},
   "outputs": [],
   "source": [
    "src_dir = '/Volumes/GoogleDrive/My Drive/Projects/NeuSurPlan_2021/IntraOpMap/code/data/derivatives'"
   ]
  },
  {
   "cell_type": "code",
   "execution_count": 48,
   "id": "1c32531b",
   "metadata": {},
   "outputs": [],
   "source": [
    "import os\n",
    "import csv\n",
    "import numpy as np\n",
    "import nibabel as nib\n",
    "import dipy.tracking.utils as tu"
   ]
  },
  {
   "cell_type": "code",
   "execution_count": 49,
   "id": "f91d3eac",
   "metadata": {},
   "outputs": [],
   "source": [
    "def load_csv(src_csv):\n",
    "    csv_fd = open(src_csv)\n",
    "    csv_reader = csv.reader(csv_fd)\n",
    "    csv_header = next(csv_reader)\n",
    "    csv_rows = []\n",
    "    for row in csv_reader:\n",
    "        csv_rows.append(row)\n",
    "    csv_fd.close()\n",
    "    return csv_header, csv_rows"
   ]
  },
  {
   "cell_type": "code",
   "execution_count": 68,
   "id": "9e30d190",
   "metadata": {},
   "outputs": [],
   "source": [
    "def split_3d_points_by_roi(src, out, tag='cortical'):\n",
    "    hdr, row = load_csv(src)\n",
    "    roi_split = []\n",
    "    rois = list(set([r[1] for r in row]))\n",
    "    xyz = {}\n",
    "    for roi in rois: \n",
    "        xyz[roi]=[]\n",
    "    for r in row:\n",
    "        xyz[r[1]].append([r[2],r[3],r[4],r[5]])\n",
    "    for roi in rois:\n",
    "        roi_split.append(os.path.join(out, 'des-%s_roi-%s%s.csv' % (tag, roi)))\n",
    "        with open(roi_split[-1], 'w') as out_csv:\n",
    "            for des in xyz[roi]:\n",
    "                out_csv.write(\",\".join(des) + \"\\n\")\n",
    "            print(\"%3d %s\" % (len(xyz[roi]), roi))\n",
    "    return roi_split, rois"
   ]
  },
  {
   "cell_type": "code",
   "execution_count": 173,
   "id": "6764f4b1",
   "metadata": {},
   "outputs": [],
   "source": [
    "def split_3d_points_by_hemi(src, out, emi='lh'):\n",
    "    hdr, row = load_csv(src)\n",
    "    xyz = []\n",
    "    for r in row:\n",
    "        if (emi == 'lh' and float(r[0]) <= 0):\n",
    "            xyz.append([r[0],r[1],r[2],r[3]])\n",
    "        if (emi == 'rh' and float(r[0]) >= 0):\n",
    "            xyz.append([r[0],r[1],r[2],r[3]])\n",
    "    with open(out, 'w') as out_csv:\n",
    "        for des in xyz:\n",
    "            out_csv.write(\",\".join(des) + \"\\n\")\n",
    "        print(\"Selected points: %3d/%3d\" % (len(xyz), len(row)))"
   ]
  },
  {
   "cell_type": "code",
   "execution_count": 69,
   "id": "bdf6db8e",
   "metadata": {},
   "outputs": [
    {
     "name": "stdout",
     "output_type": "stream",
     "text": [
      "325 MOVEMENT_ARREST\n",
      " 79 AMODAL_ANOMIA\n",
      " 49 MENTALIZING\n",
      " 10 VISUO_SPATIAL\n",
      "257 VERBAL_APRAXIA\n",
      "109 ANOMIA\n",
      " 70 PHONOLOGICAL\n",
      "280 MOTOR\n",
      "  7 VISUAL\n",
      "161 SENSORIAL\n",
      "  8 EYES_MOVEMENTS\n",
      "  1 READING\n",
      "333 SPEECH_ARREST\n",
      " 47 SEMANTIC\n"
     ]
    }
   ],
   "source": [
    "ref_tag = 'cortical_batch-03'\n",
    "src_csv = os.path.join(src_dir, \"des_csv/des-%s.csv\" % ref_tag)\n",
    "out_dir = os.path.join(src_dir, \"des_csv\")\n",
    "_, roi_b03 = split_3d_points_by_roi(src_csv, out_dir, ref_tag)"
   ]
  },
  {
   "cell_type": "code",
   "execution_count": 70,
   "id": "7bd6c266",
   "metadata": {},
   "outputs": [
    {
     "name": "stdout",
     "output_type": "stream",
     "text": [
      " 89 MOVEMENT_ARREST\n",
      " 17 AMODAL_ANOMIA\n",
      " 12 MENTALIZING\n",
      "  7 SPATIAL_PERCEPTION\n",
      " 74 VERBAL_APRAXIA\n",
      " 50 ANOMIA\n",
      "  1 READING\n",
      "142 MOTOR\n",
      "  5 PHONOLOGICAL\n",
      " 56 SENSORIAL\n",
      "116 SPEECH_ARREST\n",
      " 25 SEMANTIC\n",
      "  3 EYES_MOVEMENT\n"
     ]
    }
   ],
   "source": [
    "ref_tag = 'cortical_batch-02'\n",
    "src_csv = os.path.join(src_dir, \"des_csv/des-%s.csv\" % ref_tag)\n",
    "out_dir = os.path.join(src_dir, \"des_csv\")\n",
    "_, roi_b02 = split_3d_points_by_roi(src_csv, out_dir, ref_tag)"
   ]
  },
  {
   "cell_type": "code",
   "execution_count": 71,
   "id": "c3244d17",
   "metadata": {},
   "outputs": [
    {
     "name": "stdout",
     "output_type": "stream",
     "text": [
      " 16 SPATIAL_PERCEPTION\n",
      " 68 VERBAL_APRAXIA\n",
      " 44 ANOMIA\n",
      "  9 PHONOLOGICAL\n",
      "183 MOTOR\n",
      " 94 SENSORIAL\n",
      "  1 READING\n",
      "135 SPEECH_ARREST\n",
      " 14 SEMANTIC\n",
      "  1 EYES_MOVEMENT\n"
     ]
    }
   ],
   "source": [
    "ref_tag = 'cortical_batch-01'\n",
    "src_csv = os.path.join(src_dir, \"des_csv/des-%s.csv\" % ref_tag)\n",
    "out_dir = os.path.join(src_dir, \"des_csv\")\n",
    "_, roi_b01 = split_3d_points_by_roi(src_csv, out_dir, ref_tag)"
   ]
  },
  {
   "cell_type": "code",
   "execution_count": 96,
   "id": "8c7c3dda",
   "metadata": {},
   "outputs": [
    {
     "data": {
      "text/plain": [
       "0"
      ]
     },
     "execution_count": 96,
     "metadata": {},
     "output_type": "execute_result"
    }
   ],
   "source": [
    "ref_tag = \"ANOMIA\"\n",
    "b01_src = os.path.join(src_dir, \"des_csv/des-cortical_batch-01_roi-%s.csv\" % ref_tag)\n",
    "b02_src = os.path.join(src_dir, \"des_csv/des-cortical_batch-02_roi-%s.csv\" % ref_tag)\n",
    "b03_src = os.path.join(src_dir, \"des_csv/des-cortical_batch-03_roi-%s.csv\" % ref_tag)\n",
    "csv_out = os.path.join(src_dir, \"des_csv/des-cortical_roi-%s.csv\" % ref_tag)\n",
    "cmd = \"cat \\'%s\\' \\'%s\\' \\'%s\\' >> \\'%s\\'\" % (b01_src, b02_src, b03_src, csv_out)\n",
    "os.system(cmd)\n"
   ]
  },
  {
   "cell_type": "code",
   "execution_count": 174,
   "id": "91ab490b",
   "metadata": {},
   "outputs": [
    {
     "name": "stdout",
     "output_type": "stream",
     "text": [
      "Selected points: 192/202\n"
     ]
    }
   ],
   "source": [
    "ref_tag = \"ANOMIA\"\n",
    "ref_des = 'cortical'\n",
    "ref_emi = 'lh'\n",
    "src_csv = os.path.join(src_dir, \"des_csv/des-%s_roi-%s.csv\" % (ref_des, ref_tag))\n",
    "out_csv = os.path.join(src_dir, \"des_csv/des-%s_roi-%s_%s.csv\" % (ref_des, ref_tag, ref_emi))\n",
    "split_3d_points_by_hemi(src_csv, out_csv, ref_emi)"
   ]
  },
  {
   "cell_type": "code",
   "execution_count": 148,
   "id": "6d31d296",
   "metadata": {},
   "outputs": [],
   "source": [
    "def cloud2nifti(src, ref, out, emi=''):\n",
    "    \n",
    "    img = nib.load(ref)\n",
    "    vox_size = img.header.get_zooms()\n",
    "    shape = img.header.get_data_shape()\n",
    "    affine = img.affine\n",
    "    header = img.header\n",
    "    linT, offset = tu._mapping_to_voxel(affine)\n",
    "    \n",
    "    cloud = np.loadtxt(src, delimiter=',')\n",
    "    \n",
    "    mask = np.zeros(shape, dtype=np.float)\n",
    "    stem = tu._to_voxel_coordinates(cloud[:,:3], linT, offset)\n",
    "    i, j, k = stem.T\n",
    "    if emi == 'lh':\n",
    "        mask[i>90, j, k] = 1.0\n",
    "    if emi == 'lh':\n",
    "        mask[i<92, j, k] = 1.0\n",
    "    if emi == '':\n",
    "        mask[i, j, k] = 1.0\n",
    "    \n",
    "    nii = nib.Nifti1Image(mask, affine, header)\n",
    "    nii.update_header()\n",
    "    nib.save(nii, out)\n",
    "    \n",
    "    return stem"
   ]
  },
  {
   "cell_type": "code",
   "execution_count": 149,
   "id": "815c9996",
   "metadata": {},
   "outputs": [],
   "source": [
    "lab = 'ANOMIA'\n",
    "emi = 'lh'\n",
    "src = '../data/derivatives/des_csv/des-cortical_roi-%s.csv' % lab\n",
    "ref = '../metadata/MNI152/MNI152_T1_brain.nii.gz'\n",
    "out = '../data/derivatives/point_to_surf/des-cortical_roi-%s_%s.nii.gz' % (lab, emi)\n"
   ]
  },
  {
   "cell_type": "code",
   "execution_count": 150,
   "id": "5edd59ac",
   "metadata": {},
   "outputs": [
    {
     "name": "stderr",
     "output_type": "stream",
     "text": [
      "/var/folders/zc/k61jsc1n7pg31zpct00n912h0000gn/T/ipykernel_43877/4147341044.py:12: DeprecationWarning: `np.float` is a deprecated alias for the builtin `float`. To silence this warning, use `float` by itself. Doing this will not modify any behavior and is safe. If you specifically wanted the numpy scalar type, use `np.float64` here.\n",
      "Deprecated in NumPy 1.20; for more details and guidance: https://numpy.org/devdocs/release/1.20.0-notes.html#deprecations\n",
      "  mask = np.zeros(shape, dtype=np.float)\n"
     ]
    },
    {
     "data": {
      "text/plain": [
       "array([[158,  97,  95],\n",
       "       [ 23,  92,  94],\n",
       "       [ 24,  95, 101],\n",
       "       [159, 117,  67],\n",
       "       [155, 128,  56],\n",
       "       [161, 108,  73],\n",
       "       [163, 100,  84],\n",
       "       [159,  86,  84],\n",
       "       [149, 147,  75],\n",
       "       [149, 147,  80],\n",
       "       [160,  96, 105],\n",
       "       [161, 100,  82],\n",
       "       [162, 117,  59],\n",
       "       [159, 124,  69],\n",
       "       [125, 135, 140],\n",
       "       [161, 109,  71],\n",
       "       [163,  77,  63],\n",
       "       [163, 103,  75],\n",
       "       [159,  91,  89],\n",
       "       [159, 102,  73],\n",
       "       [147, 144,  67],\n",
       "       [157,  96, 104],\n",
       "       [ 32, 108,  78],\n",
       "       [ 32,  93,  85],\n",
       "       [154, 140,  90],\n",
       "       [160, 117,  71],\n",
       "       [150, 154,  81],\n",
       "       [151, 155,  70],\n",
       "       [157,  99,  34],\n",
       "       [161, 114,  74],\n",
       "       [148, 146, 108],\n",
       "       [134, 146, 127],\n",
       "       [156, 130,  71],\n",
       "       [160,  97,  92],\n",
       "       [146, 159,  77],\n",
       "       [148, 149, 104],\n",
       "       [154,  90,  88],\n",
       "       [150, 145,  73],\n",
       "       [160,  84,  90],\n",
       "       [158,  99,  79],\n",
       "       [159,  83,  68],\n",
       "       [ 22,  95,  93],\n",
       "       [160,  95, 100],\n",
       "       [149, 151,  76],\n",
       "       [146, 143,  77],\n",
       "       [147, 143,  80],\n",
       "       [158, 103,  78],\n",
       "       [152, 125,  66],\n",
       "       [149, 139,  81],\n",
       "       [159,  93,  69],\n",
       "       [146, 155,  73],\n",
       "       [157, 118,  73],\n",
       "       [148, 142,  63],\n",
       "       [138, 116,  91],\n",
       "       [152, 121,  71],\n",
       "       [143, 153,  85],\n",
       "       [159,  82,  61],\n",
       "       [147, 145,  87],\n",
       "       [144, 158,  79],\n",
       "       [137, 163,  95],\n",
       "       [148, 144,  69],\n",
       "       [161,  86,  90],\n",
       "       [159, 113,  71],\n",
       "       [151, 133,  67],\n",
       "       [148,  67,  84],\n",
       "       [145, 159,  78],\n",
       "       [160,  91,  77],\n",
       "       [154,  75,  94],\n",
       "       [157,  84,  93],\n",
       "       [145, 154,  78],\n",
       "       [144, 154,  84],\n",
       "       [145, 150,  91],\n",
       "       [158, 108,  77],\n",
       "       [151, 135,  90],\n",
       "       [154, 130,  63],\n",
       "       [154,  90, 102],\n",
       "       [150, 164,  70],\n",
       "       [151, 158,  73],\n",
       "       [150, 157,  93],\n",
       "       [151, 155,  84],\n",
       "       [160, 113,  73],\n",
       "       [153, 128,  74],\n",
       "       [144, 151,  99],\n",
       "       [136, 140, 120],\n",
       "       [124, 139, 128],\n",
       "       [158, 104,  73],\n",
       "       [161, 109,  66],\n",
       "       [158, 104,  75],\n",
       "       [159, 109,  56],\n",
       "       [157, 118,  66],\n",
       "       [157, 107,  77],\n",
       "       [156, 118,  71],\n",
       "       [156, 111,  73],\n",
       "       [156,  75,  77],\n",
       "       [ 37, 146,  95],\n",
       "       [155, 100,  81],\n",
       "       [154,  99,  76],\n",
       "       [134, 128, 130],\n",
       "       [149, 140,  88],\n",
       "       [141, 147, 108],\n",
       "       [137, 132, 119],\n",
       "       [143, 153,  86],\n",
       "       [142, 152,  86],\n",
       "       [138, 156,  95],\n",
       "       [152, 104,  45],\n",
       "       [156,  95,  71],\n",
       "       [159,  83,  75],\n",
       "       [155, 105,  82],\n",
       "       [157, 116,  67],\n",
       "       [ 48, 122, 133],\n",
       "       [141, 156, 103],\n",
       "       [143, 149,  96],\n",
       "       [ 26,  87,  86],\n",
       "       [147, 158,  83],\n",
       "       [156, 104,  72],\n",
       "       [156,  80,  61],\n",
       "       [153,  78,  99],\n",
       "       [141, 161,  87],\n",
       "       [138, 162,  92],\n",
       "       [138, 155,  99],\n",
       "       [146, 145,  82],\n",
       "       [  0,   0,   0],\n",
       "       [144, 145,  75],\n",
       "       [154, 119,  79],\n",
       "       [149, 151,  84],\n",
       "       [157,  83,  68],\n",
       "       [133, 143, 119],\n",
       "       [156, 106,  80],\n",
       "       [159,  94,  87],\n",
       "       [144, 141, 100],\n",
       "       [145, 140,  89],\n",
       "       [152, 122,  74],\n",
       "       [147, 144,  79],\n",
       "       [140, 151,  65],\n",
       "       [142, 161,  72],\n",
       "       [155, 123,  63],\n",
       "       [122, 141, 131],\n",
       "       [157,  95,  91],\n",
       "       [146, 138, 101],\n",
       "       [143, 144,  78],\n",
       "       [143, 150,  75],\n",
       "       [149, 127,  77],\n",
       "       [144, 138,  70],\n",
       "       [156, 107,  77],\n",
       "       [156, 115,  64],\n",
       "       [158,  90,  68],\n",
       "       [157,  78,  70],\n",
       "       [158,  83,  61],\n",
       "       [155,  88,  79],\n",
       "       [155,  94,  78],\n",
       "       [144, 142,  97],\n",
       "       [140, 154,  96],\n",
       "       [141, 149,  97],\n",
       "       [137, 151, 107],\n",
       "       [140, 161,  90],\n",
       "       [146, 143,  94],\n",
       "       [151, 132,  66],\n",
       "       [135, 155, 102],\n",
       "       [156, 101,  76],\n",
       "       [149,  63,  78],\n",
       "       [137, 135, 116],\n",
       "       [155, 110,  84],\n",
       "       [147, 147,  90],\n",
       "       [154, 116,  75],\n",
       "       [150, 129,  79],\n",
       "       [155, 108,  77],\n",
       "       [136, 174,  82],\n",
       "       [142, 156,  91],\n",
       "       [155, 104,  82],\n",
       "       [151, 129,  66],\n",
       "       [155, 127,  63],\n",
       "       [156, 124,  74],\n",
       "       [131, 127, 132],\n",
       "       [142, 150, 103],\n",
       "       [156, 106,  81],\n",
       "       [152, 126,  70],\n",
       "       [154, 114,  59],\n",
       "       [146, 143,  92],\n",
       "       [161, 110,  77],\n",
       "       [156,  79, 100],\n",
       "       [155, 112,  78],\n",
       "       [156, 113,  76],\n",
       "       [158, 101,  87],\n",
       "       [150, 133,  84],\n",
       "       [146, 148,  91],\n",
       "       [154, 113,  57],\n",
       "       [154,  80,  69],\n",
       "       [147, 144,  85],\n",
       "       [147, 136,  65],\n",
       "       [159, 137,  96],\n",
       "       [144, 140, 108],\n",
       "       [146, 137,  98],\n",
       "       [ 34, 152,  87],\n",
       "       [157, 106,  65],\n",
       "       [158,  97,  89],\n",
       "       [148,  74, 103],\n",
       "       [156, 104,  67],\n",
       "       [148, 144,  82],\n",
       "       [158, 107,  75],\n",
       "       [148, 142,  82],\n",
       "       [144, 150,  94],\n",
       "       [149, 138,  96],\n",
       "       [141, 148,  91]])"
      ]
     },
     "execution_count": 150,
     "metadata": {},
     "output_type": "execute_result"
    }
   ],
   "source": [
    "cloud2nifti(src, ref, out)"
   ]
  },
  {
   "cell_type": "code",
   "execution_count": null,
   "id": "da098c6b",
   "metadata": {},
   "outputs": [],
   "source": []
  },
  {
   "cell_type": "code",
   "execution_count": 162,
   "id": "a510137b",
   "metadata": {},
   "outputs": [],
   "source": [
    "lab = 'VERBAL_APRAXIA'\n",
    "emi = \"lh\"\n",
    "src_vol = '../data/derivatives/point_to_surf/des-cortical_roi-%s_%s.nii.gz' % (lab, emi)\n",
    "out_gii = '../data/derivatives/point_to_surf/des-cortical_roi-%s_%s_sfwhm-10.gii' % (lab, emi)"
   ]
  },
  {
   "cell_type": "code",
   "execution_count": 163,
   "id": "d5b4432d",
   "metadata": {},
   "outputs": [
    {
     "name": "stdout",
     "output_type": "stream",
     "text": [
      "srcvol = ../data/derivatives/point_to_surf/des-cortical_roi-VERBAL_APRAXIA_lh.nii.gz\n",
      "srcreg = /Applications/freesurfer/7.1.1/average/mni152.register.dat\n",
      "srcregold = 0\n",
      "srcwarp unspecified\n",
      "surf = pial\n",
      "hemi = lh\n",
      "reshape = 0\n",
      "interp = nearest\n",
      "float2int = round\n",
      "GetProjMax = 0\n",
      "INFO: float2int code = 0\n",
      "niiRead(): NIFTI_UNITS_UNKNOWN, assuming mm\n",
      "niiRead(): detected input as 64 bit double, reading in as 32 bit float\n",
      "Done loading volume\n",
      "INFO: This REGISTER_DAT transform is valid only for volumes between  COR types with c_(r,a,s) = 0.\n",
      "Input reg is register.dat\n",
      "-------- original matrix -----------\n",
      " 0.99753  -0.00732   0.01760   0.95709;\n",
      "-0.01296  -0.00926   0.99706  -17.81596;\n",
      "-0.01460  -1.00094   0.00244  -18.54964;\n",
      " 0.00000   0.00000   0.00000   1.00000;\n",
      "-------- original matrix -----------\n",
      "Reading surface /Applications/freesurfer/7.1.1/subjects/fsaverage/surf/lh.pial\n",
      "Done reading source surface\n",
      "Mapping Source Volume onto Source Subject Surface\n",
      " 1 0 0 0\n",
      "using old\n",
      "Done mapping volume to surface\n",
      "Number of source voxels hit = 81314\n",
      "Surface smoothing by fwhm = 10 (n=58)\n",
      "Writing to ../data/derivatives/point_to_surf/des-cortical_roi-VERBAL_APRAXIA_lh_sfwhm-10.gii\n",
      "Dim: 163842 1 1\n"
     ]
    },
    {
     "data": {
      "text/plain": [
       "0"
      ]
     },
     "execution_count": 163,
     "metadata": {},
     "output_type": "execute_result"
    }
   ],
   "source": [
    "cmd = \"mri_vol2surf --mov %s --surf pial --mni152reg --out %s --hemi lh --surf-fwhm 10\" % (src_vol, out_gii)\n",
    "os.system(cmd)"
   ]
  },
  {
   "cell_type": "code",
   "execution_count": 120,
   "id": "3c280ca4",
   "metadata": {},
   "outputs": [
    {
     "data": {
      "text/plain": [
       "'mri_vol2surf --vol2surf ../data/derivatives/point_to_surf/des-cortical_roi-ANOMIA_lh.nii.gz lh.pial.asc 1 10 1 mni2reg novsm 1 ../data/derivatives/point_to_surf/des-cortical_roi-ANOMIA_lh.gii'"
      ]
     },
     "execution_count": 120,
     "metadata": {},
     "output_type": "execute_result"
    }
   ],
   "source": [
    "lab = 'ANOMIA'\n",
    "emi = \"lh\"\n",
    "vol = '../data/derivatives/point_to_surf/des-cortical_roi-%s_%s.nii.gz' % (lab, emi)\n",
    "surf = \"lh.pial.asc\"\n",
    "projtype = \"1\"\n",
    "projdist = \"10\"\n",
    "projmap = \"1\"\n",
    "reg = \"mni2reg\"\n",
    "vsm = \"novsm\"\n",
    "interp = \"1\"\n",
    "out = '../data/derivatives/point_to_surf/des-cortical_roi-%s_%s.gii' % (lab, emi)\n",
    "cmd = \"mri_vol2surf --vol2surf %s %s %s %s %s %s %s %s %s\" % \\\n",
    "    (vol, surf, projtype, projdist, projmap, reg, vsm, interp, out)\n",
    "cmd"
   ]
  },
  {
   "cell_type": "code",
   "execution_count": 101,
   "id": "96895739",
   "metadata": {},
   "outputs": [
    {
     "name": "stdout",
     "output_type": "stream",
     "text": [
      "srcvol = ../data/derivatives/point_to_surf/des-cortical_roi-ANOMIA_lh.nii.gz\n",
      "srcreg = /Applications/freesurfer/7.1.1/average/mni152.register.dat\n",
      "srcregold = 0\n",
      "srcwarp unspecified\n",
      "surf = pial\n",
      "hemi = lh\n",
      "reshape = 0\n",
      "interp = nearest\n",
      "float2int = round\n",
      "GetProjMax = 0\n",
      "INFO: float2int code = 0\n",
      "niiRead(): NIFTI_UNITS_UNKNOWN, assuming mm\n",
      "niiRead(): detected input as 64 bit double, reading in as 32 bit float\n",
      "Done loading volume\n",
      "INFO: This REGISTER_DAT transform is valid only for volumes between  COR types with c_(r,a,s) = 0.\n",
      "Input reg is register.dat\n",
      "-------- original matrix -----------\n",
      " 0.99753  -0.00732   0.01760   0.95709;\n",
      "-0.01296  -0.00926   0.99706  -17.81596;\n",
      "-0.01460  -1.00094   0.00244  -18.54964;\n",
      " 0.00000   0.00000   0.00000   1.00000;\n",
      "-------- original matrix -----------\n",
      "INFO: smoothing volume at fwhm = 20 mm (std = 8.49322)\n",
      "Reading surface /Applications/freesurfer/7.1.1/subjects/fsaverage/surf/lh.pial\n",
      "Done reading source surface\n",
      "Mapping Source Volume onto Source Subject Surface\n",
      " 1 0 0 0\n",
      "using old\n",
      "Done mapping volume to surface\n",
      "Number of source voxels hit = 81314\n",
      "Writing to ../data/derivatives/point_to_surf/des-cortical_roi-ANOMIA_lh.gii\n",
      "Dim: 163842 1 1\n"
     ]
    },
    {
     "data": {
      "text/plain": [
       "0"
      ]
     },
     "execution_count": 101,
     "metadata": {},
     "output_type": "execute_result"
    }
   ],
   "source": [
    "os.system(cmd)\n"
   ]
  },
  {
   "cell_type": "code",
   "execution_count": 102,
   "id": "f7f879e4",
   "metadata": {},
   "outputs": [],
   "source": [
    "lab = 'ANOMIA'\n",
    "emi = \"lh\"\n",
    "ref_surf = '/Volumes/paolo/Downloads/point_to_surf/lh.pial.asc'\n",
    "src_vol = '../data/derivatives/point_to_surf/des-cortical_roi-%s_%s.nii.gz' % (lab, emi)\n",
    "out_gii = '../data/derivatives/point_to_surf/des-cortical_roi-%s_%s_fsl.gii' % (lab, emi)"
   ]
  },
  {
   "cell_type": "code",
   "execution_count": 103,
   "id": "7c8743bc",
   "metadata": {},
   "outputs": [],
   "source": [
    "cmd = \"surf_proj  --data=%s --surf=%s --out=%s --surfout\" % (src_vol, ref_surf, out_gii)"
   ]
  },
  {
   "cell_type": "code",
   "execution_count": 104,
   "id": "132fe051",
   "metadata": {},
   "outputs": [
    {
     "name": "stdout",
     "output_type": "stream",
     "text": [
      "read data\n",
      "read surface\n",
      "project data\n",
      "save\n",
      "numda2 3\n",
      "write vertcies 163842\n",
      "write traingles 327680\n",
      "327680 163842\n",
      "resize trinagle array\n",
      "write faces 983040\n",
      "scalar 0 2\n",
      "set scalar names 1 MyScalars\n",
      "do memcpy \n",
      "scalar int 0\n",
      "done scalar\n",
      "null\n"
     ]
    },
    {
     "data": {
      "text/plain": [
       "0"
      ]
     },
     "execution_count": 104,
     "metadata": {},
     "output_type": "execute_result"
    }
   ],
   "source": [
    "os.system(cmd)"
   ]
  },
  {
   "cell_type": "code",
   "execution_count": 114,
   "id": "2eb0185f",
   "metadata": {},
   "outputs": [],
   "source": [
    "lab = 'ANOMIA'\n",
    "emi = \"lh\"\n",
    "src_gii = '../data/derivatives/point_to_surf/des-cortical_roi-%s_%s.gii' % (lab, emi)\n",
    "out_stl = '../data/derivatives/point_to_surf/des-cortical_roi-%s_%s.stl' % (lab, emi)"
   ]
  },
  {
   "cell_type": "code",
   "execution_count": 115,
   "id": "ea080dfb",
   "metadata": {},
   "outputs": [
    {
     "data": {
      "text/plain": [
       "'mris_convert ../data/derivatives/point_to_surf/des-cortical_roi-ANOMIA_lh.gii ../data/derivatives/point_to_surf/des-cortical_roi-ANOMIA_lh.stl'"
      ]
     },
     "execution_count": 115,
     "metadata": {},
     "output_type": "execute_result"
    }
   ],
   "source": [
    "cmd = \"mris_convert %s %s\" % (src_gii, out_stl)\n",
    "cmd"
   ]
  },
  {
   "cell_type": "code",
   "execution_count": 116,
   "id": "efce7d2d",
   "metadata": {},
   "outputs": [
    {
     "name": "stderr",
     "output_type": "stream",
     "text": [
      "mriseadGIFTIfile: mris is NULL! found when parsing file ../data/derivatives/point_to_surf/des-cortical_roi-ANOMIA_lh.gii\n",
      "error: Invalid argument\n",
      "error: mris_convert: could not read surface file ../data/derivatives/point_to_surf/des-cortical_roi-ANOMIA_lh.gii\u0000\n"
     ]
    },
    {
     "data": {
      "text/plain": [
       "65280"
      ]
     },
     "execution_count": 116,
     "metadata": {},
     "output_type": "execute_result"
    }
   ],
   "source": [
    "os.system(cmd)"
   ]
  },
  {
   "cell_type": "code",
   "execution_count": 156,
   "id": "1405910e",
   "metadata": {},
   "outputs": [
    {
     "name": "stdout",
     "output_type": "stream",
     "text": [
      "/Volumes/GoogleDrive/My Drive/Projects/NeuSurPlan_2021/IntraOpMap/code/preprocessing\n"
     ]
    }
   ],
   "source": [
    "%cd '/Volumes/GoogleDrive/My Drive/Projects/NeuSurPlan_2021/IntraOpMap/code/preprocessing'"
   ]
  },
  {
   "cell_type": "code",
   "execution_count": 157,
   "id": "bc92764f",
   "metadata": {},
   "outputs": [
    {
     "data": {
      "text/plain": [
       "'/Volumes/GoogleDrive/My Drive/Projects/NeuSurPlan_2021/IntraOpMap/code/preprocessing'"
      ]
     },
     "execution_count": 157,
     "metadata": {},
     "output_type": "execute_result"
    }
   ],
   "source": [
    "pwd"
   ]
  },
  {
   "cell_type": "code",
   "execution_count": 83,
   "id": "082d0851",
   "metadata": {},
   "outputs": [
    {
     "name": "stdout",
     "output_type": "stream",
     "text": [
      "\u001b[31mMNI152_T1_1mm_brain.stl\u001b[m\u001b[m*\r\n",
      "\u001b[31mMNI152_T1_1mm_brain_lh.gii\u001b[m\u001b[m*\r\n",
      "\u001b[31mMNI152_T1_1mm_brain_lh.stl\u001b[m\u001b[m*\r\n",
      "\u001b[31mMNI152_T1_1mm_brain_lh_hole.ply\u001b[m\u001b[m*\r\n",
      "\u001b[31mdes-cortical_batch-03_roi-MOTOR_lh.csv\u001b[m\u001b[m*\r\n",
      "\u001b[31mdes-cortical_batch-03_roi-MOTOR_lh.gii\u001b[m\u001b[m*\r\n",
      "\u001b[31mdes-cortical_batch-03_roi-MOTOR_lh.nii.gz\u001b[m\u001b[m*\r\n",
      "\u001b[31mdes-cortical_batch-03_roi-MOTOR_lh.ply\u001b[m\u001b[m*\r\n",
      "\u001b[31mdes-cortical_batch-03_roi-MOTOR_lh_fwhm-10.gii\u001b[m\u001b[m*\r\n",
      "\u001b[31mdes-cortical_batch-03_roi-MOTOR_lh_fwhm-20.gii\u001b[m\u001b[m*\r\n",
      "\u001b[31mdes-cortical_roi-SPEECH_ARREST_lh.nii.gz\u001b[m\u001b[m*\r\n",
      "\u001b[31mdes-cortical_roi-VERBAL_APRAXIA_lh.nii.gz\u001b[m\u001b[m*\r\n",
      "\u001b[31morig.nii.gz\u001b[m\u001b[m*\r\n",
      "\u001b[31mrh.MNI152_T1_1mm_brain.gii\u001b[m\u001b[m*\r\n"
     ]
    }
   ],
   "source": [
    "ls ../data/derivatives/point_to_surf"
   ]
  },
  {
   "cell_type": "code",
   "execution_count": 112,
   "id": "ff256385",
   "metadata": {},
   "outputs": [
    {
     "name": "stdout",
     "output_type": "stream",
     "text": [
      "\u001b[31m../data/derivatives/point_to_surf/des-cortical_roi-ANOMIA_lh.gii\u001b[m\u001b[m*\r\n"
     ]
    }
   ],
   "source": [
    "ls ../data/derivatives/point_to_surf/des-cortical_roi-ANOMIA_lh.gii"
   ]
  },
  {
   "cell_type": "code",
   "execution_count": 132,
   "id": "123ffa34",
   "metadata": {},
   "outputs": [],
   "source": [
    "img = nib.load('../metadata/MNI152/MNI152_T1_1mm.nii.gz')\n"
   ]
  },
  {
   "cell_type": "code",
   "execution_count": 141,
   "id": "38925a80",
   "metadata": {},
   "outputs": [],
   "source": [
    "img.header.set_xyzt_units(\"mm\", \"sec\")"
   ]
  },
  {
   "cell_type": "code",
   "execution_count": 134,
   "id": "49a6ff33",
   "metadata": {},
   "outputs": [
    {
     "data": {
      "text/plain": [
       "(None, None, None)"
      ]
     },
     "execution_count": 134,
     "metadata": {},
     "output_type": "execute_result"
    }
   ],
   "source": [
    "img.header.get_dim_info()"
   ]
  },
  {
   "cell_type": "code",
   "execution_count": 135,
   "id": "f6f34347",
   "metadata": {},
   "outputs": [
    {
     "data": {
      "text/plain": [
       "dtype('<f4')"
      ]
     },
     "execution_count": 135,
     "metadata": {},
     "output_type": "execute_result"
    }
   ],
   "source": [
    "img.header.get_data_dtype()"
   ]
  },
  {
   "cell_type": "code",
   "execution_count": 142,
   "id": "09059d2e",
   "metadata": {},
   "outputs": [
    {
     "data": {
      "text/plain": [
       "('mm', 'sec')"
      ]
     },
     "execution_count": 142,
     "metadata": {},
     "output_type": "execute_result"
    }
   ],
   "source": [
    "img.header.get_xyzt_units()"
   ]
  },
  {
   "cell_type": "code",
   "execution_count": 138,
   "id": "28a6e4ae",
   "metadata": {},
   "outputs": [
    {
     "ename": "AttributeError",
     "evalue": "'tuple' object has no attribute 'dtype'",
     "output_type": "error",
     "traceback": [
      "\u001b[0;31m---------------------------------------------------------------------------\u001b[0m",
      "\u001b[0;31mAttributeError\u001b[0m                            Traceback (most recent call last)",
      "Input \u001b[0;32mIn [138]\u001b[0m, in \u001b[0;36m<cell line: 1>\u001b[0;34m()\u001b[0m\n\u001b[0;32m----> 1\u001b[0m \u001b[43munit\u001b[49m\u001b[38;5;241;43m.\u001b[39;49m\u001b[43mdtype\u001b[49m()\n",
      "\u001b[0;31mAttributeError\u001b[0m: 'tuple' object has no attribute 'dtype'"
     ]
    }
   ],
   "source": []
  },
  {
   "cell_type": "code",
   "execution_count": 147,
   "id": "171bb925",
   "metadata": {},
   "outputs": [],
   "source": [
    "nib.Nifti1Image?"
   ]
  },
  {
   "cell_type": "code",
   "execution_count": 151,
   "id": "f730abcf",
   "metadata": {},
   "outputs": [],
   "source": [
    "import dipy.stats.analysis as dsa"
   ]
  },
  {
   "cell_type": "code",
   "execution_count": 152,
   "id": "a63e3491",
   "metadata": {},
   "outputs": [],
   "source": [
    "dsa.gaussian_weights?"
   ]
  },
  {
   "cell_type": "code",
   "execution_count": 168,
   "id": "2334f5d4",
   "metadata": {},
   "outputs": [
    {
     "data": {
      "text/plain": [
       "31"
      ]
     },
     "execution_count": 168,
     "metadata": {},
     "output_type": "execute_result"
    }
   ],
   "source": [
    "int(\"31\")"
   ]
  },
  {
   "cell_type": "code",
   "execution_count": null,
   "id": "d3fbaf61",
   "metadata": {},
   "outputs": [],
   "source": []
  }
 ],
 "metadata": {
  "kernelspec": {
   "display_name": "Python 3 (ipykernel)",
   "language": "python",
   "name": "python3"
  },
  "language_info": {
   "codemirror_mode": {
    "name": "ipython",
    "version": 3
   },
   "file_extension": ".py",
   "mimetype": "text/x-python",
   "name": "python",
   "nbconvert_exporter": "python",
   "pygments_lexer": "ipython3",
   "version": "3.9.10"
  }
 },
 "nbformat": 4,
 "nbformat_minor": 5
}
