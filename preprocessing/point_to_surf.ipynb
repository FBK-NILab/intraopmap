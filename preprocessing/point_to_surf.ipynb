{
 "cells": [
  {
   "cell_type": "code",
   "execution_count": 45,
   "id": "92cdd41f",
   "metadata": {},
   "outputs": [],
   "source": [
    "src_dir = '/Volumes/GoogleDrive/My Drive/Projects/NeuSurPlan_2021/IntraOpMap/code/data/derivatives'"
   ]
  },
  {
   "cell_type": "code",
   "execution_count": 45,
   "id": "f4e8b0ce",
   "metadata": {},
   "outputs": [],
   "source": [
    "src_des = '/home/paolo/Datasets/IntraOpMap/code/data'\n",
    "out_des = '/home/paolo/Datasets/IntraOpMap/data'\n",
    "out_gii = '/home/paolo/Datasets/IntraOpMap/data/point_to_surf'"
   ]
  },
  {
   "cell_type": "code",
   "execution_count": 43,
   "id": "9bf21ba4",
   "metadata": {},
   "outputs": [],
   "source": [
    "src_des = '/Volumes/paolo/Datasets/IntraOpMap/code/data'\n",
    "out_des = '/Volumes/paolo/Datasets/IntraOpMap/data'\n",
    "out_gii = '/Volumes/paolo/Datasets/IntraOpMap/data/point_to_surf'"
   ]
  },
  {
   "cell_type": "code",
   "execution_count": 36,
   "id": "1c32531b",
   "metadata": {},
   "outputs": [],
   "source": [
    "import os\n",
    "import csv\n",
    "import numpy as np\n",
    "import nibabel as nib\n",
    "import dipy.tracking.utils as tu"
   ]
  },
  {
   "cell_type": "code",
   "execution_count": 75,
   "id": "f91d3eac",
   "metadata": {},
   "outputs": [],
   "source": [
    "def load_csv(src_csv, hdr=False):\n",
    "    csv_fd = open(src_csv)\n",
    "    csv_header = \"\"\n",
    "    csv_reader = csv.reader(csv_fd)\n",
    "    if hdr:\n",
    "        csv_header = next(csv_reader)\n",
    "    csv_rows = []\n",
    "    for row in csv_reader:\n",
    "        csv_rows.append(row)\n",
    "    csv_fd.close()\n",
    "    return csv_header, csv_rows"
   ]
  },
  {
   "cell_type": "code",
   "execution_count": 76,
   "id": "9e30d190",
   "metadata": {},
   "outputs": [],
   "source": [
    "def split_3d_points_by_roi(src, out, tag='cortical'):\n",
    "    hdr, row = load_csv(src, hdr=True)\n",
    "    roi_split = []\n",
    "    rois = list(set([r[1] for r in row]))\n",
    "    xyz = {}\n",
    "    for roi in rois: \n",
    "        xyz[roi]=[]\n",
    "    for r in row:\n",
    "        xyz[r[1]].append([r[2],r[3],r[4]])\n",
    "    for roi in rois:\n",
    "        roi_split.append(os.path.join(out, 'des-%s_roi-%s.csv' % (tag, roi)))\n",
    "        with open(roi_split[-1], 'w') as out_csv:\n",
    "            for des in xyz[roi]:\n",
    "                out_csv.write(\",\".join(des) + \"\\n\")\n",
    "            print(\"%3d %s\" % (len(xyz[roi]), roi))\n",
    "    return roi_split, rois"
   ]
  },
  {
   "cell_type": "code",
   "execution_count": 83,
   "id": "6764f4b1",
   "metadata": {},
   "outputs": [],
   "source": [
    "def split_3d_points_by_hemi(src, out, emi='lh'):\n",
    "    hdr, row = load_csv(src)\n",
    "    xyz = []\n",
    "    for r in row:\n",
    "        if (emi == 'lh' and float(r[0]) <= 0):\n",
    "            xyz.append([r[0],r[1],r[2]])\n",
    "        if (emi == 'rh' and float(r[0]) >= 0):\n",
    "            xyz.append([r[0],r[1],r[2]])\n",
    "    with open(out, 'w') as out_csv:\n",
    "        for des in xyz:\n",
    "            out_csv.write(\",\".join(des) + \"\\n\")\n",
    "        print(\"Selected points: %3d/%3d\" % (len(xyz), len(row)))"
   ]
  },
  {
   "cell_type": "code",
   "execution_count": 87,
   "id": "2b4494c3",
   "metadata": {},
   "outputs": [],
   "source": [
    "def convert_to_node(src, out):\n",
    "    hdr, row = load_csv(src)\n",
    "    with open(out, 'w') as out_csv:\n",
    "        for r in row:\n",
    "            node = [r[0], r[1], r[2], \"1.1\", \"0.5\"]\n",
    "            out_csv.write(\" \".join(node) + \"\\n\")"
   ]
  },
  {
   "cell_type": "code",
   "execution_count": 78,
   "id": "c3244d17",
   "metadata": {},
   "outputs": [
    {
     "name": "stdout",
     "output_type": "stream",
     "text": [
      "  5 VISUAL\n",
      "  3 PHONOLOGICAL\n",
      "  2 ATAXIA\n",
      " 45 SPEECH_ARREST\n",
      " 15 SENSORIAL\n",
      " 17 SEMANTIC\n",
      " 30 ANOMIA\n",
      "  4 MOVEMENT_ARREST\n",
      "  1 DISARTRIA\n",
      "  2 AMODAL_ANOMIA\n",
      "  2 COORDINATION\n",
      " 46 MOTOR\n",
      "  7 VISUAL\n",
      "  7 PHONOLOGICAL_APHASIA\n",
      "332 SPEECH_ARREST\n",
      " 45 SEMANTIC\n",
      "161 SENSORIAL\n",
      "  1 READING\n",
      " 14 HYPOPHONIA\n",
      "109 ANOMIA\n",
      " 47 VOCALISATION\n",
      "256 VERBAL_APRAXIA\n",
      "325 MOVEMENT_ARREST\n",
      "  8 EYES_MOVEMENT\n",
      " 49 MENTALIZING\n",
      " 79 AMODAL_ANOMIA\n",
      "  2 ECHOLALIA\n",
      "278 MOTOR\n",
      " 10 VISUO_SPATIAL\n",
      "  5 PHONOLOGICAL\n",
      "110 SPEECH_ARREST\n",
      " 25 SEMANTIC\n",
      " 53 SENSORIAL\n",
      "  7 SPATIAL_PERCEPTION\n",
      " 47 ANOMIA\n",
      "  3 EYES_MOVEMENT\n",
      " 81 MOVEMENT_ARREST\n",
      " 72 VERBAL_APRAXIA\n",
      " 12 MENTALIZING\n",
      " 17 AMODAL_ANOMIA\n",
      "131 MOTOR\n",
      "  1 READING\n",
      "  7 PHONOLOGICAL\n",
      "131 SPEECH_ARREST\n",
      " 11 SEMANTIC\n",
      " 92 SENSORIAL\n",
      " 16 SPATIAL_PERCEPTION\n",
      " 39 ANOMIA\n",
      "  1 EYES_MOVEMENT\n",
      " 58 VERBAL_APRAXIA\n",
      "178 MOTOR\n",
      "  1 READING\n"
     ]
    }
   ],
   "source": [
    "ref_tag = 'cortical_batch-04'\n",
    "src_csv = os.path.join(src_des, \"des-%s.csv\" % ref_tag)\n",
    "out_dir = os.path.join(out_des, \"des_csv\")\n",
    "_, roi_b04 = split_3d_points_by_roi(src_csv, out_dir, ref_tag)\n",
    "\n",
    "ref_tag = 'cortical_batch-03'\n",
    "src_csv = os.path.join(src_des, \"des-%s.csv\" % ref_tag)\n",
    "out_dir = os.path.join(out_des, \"des_csv\")\n",
    "_, roi_b03 = split_3d_points_by_roi(src_csv, out_dir, ref_tag)\n",
    "\n",
    "ref_tag = 'cortical_batch-02'\n",
    "src_csv = os.path.join(src_des, \"des-%s.csv\" % ref_tag)\n",
    "out_dir = os.path.join(out_des, \"des_csv\")\n",
    "_, roi_b02 = split_3d_points_by_roi(src_csv, out_dir, ref_tag)\n",
    "\n",
    "ref_tag = 'cortical_batch-01'\n",
    "src_csv = os.path.join(src_des, \"des-%s.csv\" % ref_tag)\n",
    "out_dir = os.path.join(out_des, \"des_csv\")\n",
    "_, roi_b01 = split_3d_points_by_roi(src_csv, out_dir, ref_tag)"
   ]
  },
  {
   "cell_type": "code",
   "execution_count": 79,
   "id": "3a92d185",
   "metadata": {},
   "outputs": [
    {
     "name": "stdout",
     "output_type": "stream",
     "text": [
      " 10 VISUAL\n",
      " 42 PHONOLOGICAL\n",
      "  4 MOVEMENT_VERBAL_ARREST\n",
      " 23 SPEECH_ARREST\n",
      " 64 SEMANTIC\n",
      " 45 SENSORIAL\n",
      "  6 READING\n",
      "  9 INVOLUNTARY_MOVEMENTS\n",
      "  5 ANOMIA\n",
      "  2 EYES_MOVEMENT\n",
      " 25 VERBAL_APRAXIA\n",
      "  3 MOVEMENT_ARREST\n",
      "  7 AMODAL_ANOMIA\n",
      " 75 MOTOR\n",
      "  8 VISUO_SPATIAL\n",
      " 12 PERSEVERATIONS\n",
      " 10 VISUAL\n",
      "  5 SPEECH_ARREST\n",
      "  1 INVOLUNTARY_MOVEMENTS\n",
      "  2 VERTIGO\n",
      "  3 VISUO_SPATIAL\n",
      " 26 SENSORIAL\n",
      "  5 EYES_MOVEMENT\n",
      " 16 VERBAL_APRAXIA\n",
      " 27 MOTOR\n",
      " 26 PHONOLOGICAL\n",
      " 69 SEMANTIC\n",
      "  1 VERBAL_MOTOR_APRAXIA\n",
      "  2 PSYCHIATRIC_REACTIONS\n",
      " 14 MENTALIZING\n",
      " 20 AMODAL_ANOMIA\n",
      "  7 READING\n",
      " 26 MOVEMENT_VERBAL_ARREST\n",
      " 12 PERSEVERATIONS\n",
      " 19 ANOMIA\n",
      " 52 MOVEMENT_ARREST\n",
      "  2 ACOUSTIC_RESPONSES\n",
      " 29 VISUAL\n",
      " 37 PHONOLOGICAL\n",
      " 72 SPEECH_ARREST\n",
      "  3 ACOUSTIC_RESPONSES\n",
      " 38 SENSORIAL\n",
      "140 SEMANTIC\n",
      "  7 VERTIGO\n",
      "  1 READING\n",
      " 41 ANOMIA\n",
      "  5 EYES_MOVEMENT\n",
      " 70 MOVEMENT_ARREST\n",
      " 33 VERBAL_APRAXIA\n",
      " 64 MENTALIZING\n",
      " 36 MOTOR\n",
      "  6 VISUO_SPATIAL\n",
      " 22 PERSEVERATIONS\n",
      " 13 VISUAL\n",
      "  2 PHONOLOGICAL\n",
      "  7 SEMANTIC\n",
      "  8 SENSORIAL\n",
      "  2 VISUAL_RECOGNITION\n",
      "  1 APRAXIA\n",
      " 14 ANOMIA\n",
      "  6 VERBAL_APRAXIA\n",
      "  2 PERSEVERATIONS\n",
      "  1 AMODAL_ANOMIA\n",
      " 25 MOTOR\n",
      "  4 MOVEMENT_VERBAL_ARREST\n"
     ]
    }
   ],
   "source": [
    "ref_tag = 'subcortical_batch-01'\n",
    "src_csv = os.path.join(src_des, \"des-%s.csv\" % ref_tag)\n",
    "out_dir = os.path.join(out_des, \"des_csv\")\n",
    "_, roi_b01 = split_3d_points_by_roi(src_csv, out_dir, ref_tag)\n",
    "\n",
    "ref_tag = 'subcortical_batch-02'\n",
    "src_csv = os.path.join(src_des, \"des-%s.csv\" % ref_tag)\n",
    "out_dir = os.path.join(out_des, \"des_csv\")\n",
    "_, roi_b02 = split_3d_points_by_roi(src_csv, out_dir, ref_tag)\n",
    "\n",
    "ref_tag = 'subcortical_batch-03'\n",
    "src_csv = os.path.join(src_des, \"des-%s.csv\" % ref_tag)\n",
    "out_dir = os.path.join(out_des, \"des_csv\")\n",
    "_, roi_b03 = split_3d_points_by_roi(src_csv, out_dir, ref_tag)\n",
    "\n",
    "ref_tag = 'subcortical_batch-04'\n",
    "src_csv = os.path.join(src_des, \"des-%s.csv\" % ref_tag)\n",
    "out_dir = os.path.join(out_des, \"des_csv\")\n",
    "_, roi_b04 = split_3d_points_by_roi(src_csv, out_dir, ref_tag)"
   ]
  },
  {
   "cell_type": "code",
   "execution_count": 96,
   "id": "8c7c3dda",
   "metadata": {},
   "outputs": [
    {
     "data": {
      "text/plain": [
       "0"
      ]
     },
     "execution_count": 96,
     "metadata": {},
     "output_type": "execute_result"
    }
   ],
   "source": [
    "ref_tag = \"ANOMIA\"\n",
    "b01_src = os.path.join(src_dir, \"des_csv/des-cortical_batch-01_roi-%s.csv\" % ref_tag)\n",
    "b02_src = os.path.join(src_dir, \"des_csv/des-cortical_batch-02_roi-%s.csv\" % ref_tag)\n",
    "b03_src = os.path.join(src_dir, \"des_csv/des-cortical_batch-03_roi-%s.csv\" % ref_tag)\n",
    "csv_out = os.path.join(src_dir, \"des_csv/des-cortical_roi-%s.csv\" % ref_tag)\n",
    "cmd = \"cat \\'%s\\' \\'%s\\' \\'%s\\' >> \\'%s\\'\" % (b01_src, b02_src, b03_src, csv_out)\n",
    "os.system(cmd)\n"
   ]
  },
  {
   "cell_type": "code",
   "execution_count": 174,
   "id": "91ab490b",
   "metadata": {},
   "outputs": [
    {
     "name": "stdout",
     "output_type": "stream",
     "text": [
      "Selected points: 192/202\n"
     ]
    }
   ],
   "source": [
    "ref_tag = \"ANOMIA\"\n",
    "ref_des = 'cortical'\n",
    "ref_emi = 'lh'\n",
    "src_csv = os.path.join(src_dir, \"des_csv/des-%s_roi-%s.csv\" % (ref_des, ref_tag))\n",
    "out_csv = os.path.join(src_dir, \"des_csv/des-%s_roi-%s_%s.csv\" % (ref_des, ref_tag, ref_emi))\n",
    "split_3d_points_by_hemi(src_csv, out_csv, ref_emi)"
   ]
  },
  {
   "cell_type": "code",
   "execution_count": 80,
   "id": "526f345d",
   "metadata": {},
   "outputs": [
    {
     "data": {
      "text/plain": [
       "0"
      ]
     },
     "execution_count": 80,
     "metadata": {},
     "output_type": "execute_result"
    }
   ],
   "source": [
    "ref_tag = \"SEMANTIC\"\n",
    "b01_src = os.path.join(out_des, \"des_csv/des-cortical_batch-01_roi-%s.csv\" % ref_tag)\n",
    "b02_src = os.path.join(out_des, \"des_csv/des-cortical_batch-02_roi-%s.csv\" % ref_tag)\n",
    "b03_src = os.path.join(out_des, \"des_csv/des-cortical_batch-03_roi-%s.csv\" % ref_tag)\n",
    "b04_src = os.path.join(out_des, \"des_csv/des-cortical_batch-04_roi-%s.csv\" % ref_tag)\n",
    "csv_out = os.path.join(out_des, \"des_csv/des-cortical_roi-%s.csv\" % ref_tag)\n",
    "cmd = \"cat \\'%s\\' \\'%s\\' \\'%s\\' \\'%s\\' >> \\'%s\\'\" % (b01_src, b02_src, b03_src, b04_src, csv_out)\n",
    "os.system(cmd)"
   ]
  },
  {
   "cell_type": "code",
   "execution_count": 84,
   "id": "97f25d6e",
   "metadata": {},
   "outputs": [
    {
     "name": "stdout",
     "output_type": "stream",
     "text": [
      "Selected points: 271/282\n"
     ]
    }
   ],
   "source": [
    "ref_tag = \"SEMANTIC\"\n",
    "ref_des = 'cortical'\n",
    "ref_emi = 'lh'\n",
    "src_csv = os.path.join(out_des, \"des_csv/des-%s_roi-%s.csv\" % (ref_des, ref_tag))\n",
    "out_csv = os.path.join(out_des, \"des_csv/des-%s_roi-%s_%s.csv\" % (ref_des, ref_tag, ref_emi))\n",
    "split_3d_points_by_hemi(src_csv, out_csv, ref_emi)"
   ]
  },
  {
   "cell_type": "code",
   "execution_count": 88,
   "id": "1c02be63",
   "metadata": {},
   "outputs": [],
   "source": [
    "ref_tag = \"SEMANTIC\"\n",
    "ref_des = 'cortical'\n",
    "ref_emi = 'lh'\n",
    "src_csv = os.path.join(out_des, \"des_csv/des-%s_roi-%s_%s.csv\" % (ref_des, ref_tag, ref_emi))\n",
    "out_csv = os.path.join(out_des, \"des_csv/des-%s_roi-%s_%s.node\" % (ref_des, ref_tag, ref_emi))\n",
    "convert_to_node(src_csv, out_csv)"
   ]
  },
  {
   "cell_type": "code",
   "execution_count": 89,
   "id": "6d31d296",
   "metadata": {},
   "outputs": [],
   "source": [
    "def cloud2nifti(src, ref, out, emi=''):\n",
    "    \n",
    "    img = nib.load(ref)\n",
    "    vox_size = img.header.get_zooms()\n",
    "    shape = img.header.get_data_shape()\n",
    "    affine = img.affine\n",
    "    header = img.header\n",
    "    linT, offset = tu._mapping_to_voxel(affine)\n",
    "    \n",
    "    cloud = np.loadtxt(src, delimiter=',')\n",
    "    \n",
    "    mask = np.zeros(shape, dtype=np.float)\n",
    "    stem = tu._to_voxel_coordinates(cloud[:,:3], linT, offset)\n",
    "    i, j, k = stem.T\n",
    "    if emi == 'lh':\n",
    "        mask[i>90, j, k] = 1.0\n",
    "    if emi == 'lh':\n",
    "        mask[i<92, j, k] = 1.0\n",
    "    if emi == '':\n",
    "        mask[i, j, k] = 1.0\n",
    "    \n",
    "    nii = nib.Nifti1Image(mask, affine, header)\n",
    "    nii.update_header()\n",
    "    nib.save(nii, out)\n",
    "    \n",
    "    return stem"
   ]
  },
  {
   "cell_type": "code",
   "execution_count": 149,
   "id": "815c9996",
   "metadata": {},
   "outputs": [],
   "source": [
    "lab = 'ANOMIA'\n",
    "emi = 'lh'\n",
    "src = '../data/derivatives/des_csv/des-cortical_roi-%s.csv' % lab\n",
    "ref = '../metadata/MNI152/MNI152_T1_brain.nii.gz'\n",
    "out = '../data/derivatives/point_to_surf/des-cortical_roi-%s_%s.nii.gz' % (lab, emi)\n"
   ]
  },
  {
   "cell_type": "code",
   "execution_count": 90,
   "id": "5caab95e",
   "metadata": {},
   "outputs": [],
   "source": [
    "lab = 'SEMANTIC'\n",
    "emi = 'lh'\n",
    "src = os.path.join(out_des, 'des_csv/des-cortical_roi-%s_%s.csv' % (lab, emi))\n",
    "ref = os.path.join(src_des, '../metadata/MNI152/MNI152_T1_brain.nii.gz')\n",
    "out = os.path.join(out_gii, 'des-cortical_roi-%s_%s.nii.gz' % (lab, emi))\n"
   ]
  },
  {
   "cell_type": "code",
   "execution_count": 92,
   "id": "5edd59ac",
   "metadata": {},
   "outputs": [
    {
     "data": {
      "text/plain": [
       "array([[151, 142,  90],\n",
       "       [162, 100,  87],\n",
       "       [155, 147,  79],\n",
       "       [161, 114,  55],\n",
       "       [158,  85,  84],\n",
       "       [159,  92,  76],\n",
       "       [156, 113,  76],\n",
       "       [146, 160, 100],\n",
       "       [159, 109,  77],\n",
       "       [141, 153,  75],\n",
       "       [160,  88,  88],\n",
       "       [128, 138, 139],\n",
       "       [150, 155,  82],\n",
       "       [160,  94,  79],\n",
       "       [137, 147, 114],\n",
       "       [156, 100,  84],\n",
       "       [144, 150,  83],\n",
       "       [155,  89,  78],\n",
       "       [154,  85,  77],\n",
       "       [150, 142,  85],\n",
       "       [147, 147,  90],\n",
       "       [150, 145,  78],\n",
       "       [153, 135,  64],\n",
       "       [157, 113,  76],\n",
       "       [146, 146,  97],\n",
       "       [147, 149,  86],\n",
       "       [158, 107,  72],\n",
       "       [158, 103,  72],\n",
       "       [157, 108,  81],\n",
       "       [159, 100,  61],\n",
       "       [136, 137, 124],\n",
       "       [131, 133, 130],\n",
       "       [136, 138, 132],\n",
       "       [138, 144, 100],\n",
       "       [148, 150,  89],\n",
       "       [146, 158,  89],\n",
       "       [144, 164,  80],\n",
       "       [138, 137, 121],\n",
       "       [144, 133, 110],\n",
       "       [134, 129, 127],\n",
       "       [137, 158,  78],\n",
       "       [137, 159,  86],\n",
       "       [151,  64,  67],\n",
       "       [153,  19,  75],\n",
       "       [124, 130, 134],\n",
       "       [155, 106,  61],\n",
       "       [129, 142, 126],\n",
       "       [122, 138, 134],\n",
       "       [126, 141, 128],\n",
       "       [144, 160,  73],\n",
       "       [151, 130,  54],\n",
       "       [146, 141,  83],\n",
       "       [144, 141, 100],\n",
       "       [145, 140,  89],\n",
       "       [155,  88,  79],\n",
       "       [155,  94,  78],\n",
       "       [146, 142,  90],\n",
       "       [130, 141, 119],\n",
       "       [131, 127, 128],\n",
       "       [156, 101,  76],\n",
       "       [128, 138, 124],\n",
       "       [138, 142, 113],\n",
       "       [122, 157, 119],\n",
       "       [144, 160,  81],\n",
       "       [145, 144,  85],\n",
       "       [155, 104,  82],\n",
       "       [151, 129,  66],\n",
       "       [140, 139, 113],\n",
       "       [152, 126,  70],\n",
       "       [161, 110,  77],\n",
       "       [150, 135,  86],\n",
       "       [143, 143, 110],\n",
       "       [127, 137, 129],\n",
       "       [147, 143,  87],\n",
       "       [124, 140, 132],\n",
       "       [144, 140, 108],\n",
       "       [159, 100,  79],\n",
       "       [153, 111,  66],\n",
       "       [158,  93,  73],\n",
       "       [140, 154,  98],\n",
       "       [141, 148,  91],\n",
       "       [149, 142,  90],\n",
       "       [158,  99,  85],\n",
       "       [158, 113,  55],\n",
       "       [158,  85,  84],\n",
       "       [158,  92,  76],\n",
       "       [156, 113,  76],\n",
       "       [158, 109,  77],\n",
       "       [141, 155,  76],\n",
       "       [158,  88,  88],\n",
       "       [147, 155,  82],\n",
       "       [159,  94,  79],\n",
       "       [137, 147, 114],\n",
       "       [156, 100,  84],\n",
       "       [144, 150,  83],\n",
       "       [155,  89,  78],\n",
       "       [154,  84,  77],\n",
       "       [149, 142,  85],\n",
       "       [147, 147,  90],\n",
       "       [148, 144,  78],\n",
       "       [149, 134,  64],\n",
       "       [157, 113,  76],\n",
       "       [146, 146,  97],\n",
       "       [147, 149,  86],\n",
       "       [158, 107,  72],\n",
       "       [158, 103,  72],\n",
       "       [157, 108,  81],\n",
       "       [159, 100,  61],\n",
       "       [135, 137, 124],\n",
       "       [131, 133, 130],\n",
       "       [132, 137, 130],\n",
       "       [138, 144, 100],\n",
       "       [147, 150,  89],\n",
       "       [145, 157,  89],\n",
       "       [143, 164,  79],\n",
       "       [137, 137, 121],\n",
       "       [144, 133, 110],\n",
       "       [134, 129, 127],\n",
       "       [137, 158,  78],\n",
       "       [137, 158,  87],\n",
       "       [151,  64,  67],\n",
       "       [131,  36,  71],\n",
       "       [124, 129, 134],\n",
       "       [155, 106,  63],\n",
       "       [129, 142, 126],\n",
       "       [122, 138, 134],\n",
       "       [126, 141, 128],\n",
       "       [144, 160,  73],\n",
       "       [150, 130,  54],\n",
       "       [146, 141,  83],\n",
       "       [144, 141, 100],\n",
       "       [145, 140,  89],\n",
       "       [155,  88,  79],\n",
       "       [155,  94,  77],\n",
       "       [146, 142,  90],\n",
       "       [130, 140, 119],\n",
       "       [131, 126, 128],\n",
       "       [157, 101,  76],\n",
       "       [130, 137, 122],\n",
       "       [139, 142, 114],\n",
       "       [122, 157, 120],\n",
       "       [144, 160,  81],\n",
       "       [145, 145,  85],\n",
       "       [155, 104,  82],\n",
       "       [151, 129,  66],\n",
       "       [140, 139, 113],\n",
       "       [152, 126,  70],\n",
       "       [158, 109,  77],\n",
       "       [150, 135,  86],\n",
       "       [143, 143, 110],\n",
       "       [127, 138, 130],\n",
       "       [147, 143,  87],\n",
       "       [124, 139, 132],\n",
       "       [143, 140, 109],\n",
       "       [159, 100,  79],\n",
       "       [153, 111,  66],\n",
       "       [158,  93,  73],\n",
       "       [140, 154,  98],\n",
       "       [141, 148,  93],\n",
       "       [149, 110,  80],\n",
       "       [142, 158,  95],\n",
       "       [139, 156,  87],\n",
       "       [144, 145,  80],\n",
       "       [142, 164,  75],\n",
       "       [134, 169,  88],\n",
       "       [128, 171, 105],\n",
       "       [141, 137, 110],\n",
       "       [148, 125,  84],\n",
       "       [150, 132,  93],\n",
       "       [138, 159,  88],\n",
       "       [135, 161,  94],\n",
       "       [104, 141, 135],\n",
       "       [148, 137,  83],\n",
       "       [147, 148,  94],\n",
       "       [156, 101,  66],\n",
       "       [159,  96,  65],\n",
       "       [149, 142,  90],\n",
       "       [158,  99,  85],\n",
       "       [158, 113,  55],\n",
       "       [158,  85,  84],\n",
       "       [158,  92,  76],\n",
       "       [156, 113,  76],\n",
       "       [158, 109,  77],\n",
       "       [141, 155,  76],\n",
       "       [158,  88,  88],\n",
       "       [147, 155,  82],\n",
       "       [159,  94,  79],\n",
       "       [137, 147, 114],\n",
       "       [156, 100,  84],\n",
       "       [144, 150,  83],\n",
       "       [155,  89,  78],\n",
       "       [154,  84,  77],\n",
       "       [149, 142,  85],\n",
       "       [147, 147,  90],\n",
       "       [148, 144,  78],\n",
       "       [149, 134,  64],\n",
       "       [157, 113,  76],\n",
       "       [146, 146,  97],\n",
       "       [147, 149,  86],\n",
       "       [158, 107,  72],\n",
       "       [158, 103,  72],\n",
       "       [157, 108,  81],\n",
       "       [159, 100,  61],\n",
       "       [135, 137, 124],\n",
       "       [131, 133, 130],\n",
       "       [132, 137, 130],\n",
       "       [138, 144, 100],\n",
       "       [147, 150,  89],\n",
       "       [145, 157,  89],\n",
       "       [143, 164,  79],\n",
       "       [137, 137, 121],\n",
       "       [144, 133, 110],\n",
       "       [134, 129, 127],\n",
       "       [137, 158,  78],\n",
       "       [137, 158,  87],\n",
       "       [151,  64,  67],\n",
       "       [131,  36,  71],\n",
       "       [124, 129, 134],\n",
       "       [155, 106,  63],\n",
       "       [129, 142, 126],\n",
       "       [122, 138, 134],\n",
       "       [126, 141, 128],\n",
       "       [144, 160,  73],\n",
       "       [150, 130,  54],\n",
       "       [146, 141,  83],\n",
       "       [144, 141, 100],\n",
       "       [145, 140,  89],\n",
       "       [155,  88,  79],\n",
       "       [155,  94,  77],\n",
       "       [146, 142,  90],\n",
       "       [130, 140, 119],\n",
       "       [131, 126, 128],\n",
       "       [157, 101,  76],\n",
       "       [130, 137, 122],\n",
       "       [139, 142, 114],\n",
       "       [122, 157, 120],\n",
       "       [144, 160,  81],\n",
       "       [145, 145,  85],\n",
       "       [155, 104,  82],\n",
       "       [151, 129,  66],\n",
       "       [140, 139, 113],\n",
       "       [152, 126,  70],\n",
       "       [158, 109,  77],\n",
       "       [150, 135,  86],\n",
       "       [143, 143, 110],\n",
       "       [127, 138, 130],\n",
       "       [147, 143,  87],\n",
       "       [124, 139, 132],\n",
       "       [143, 140, 109],\n",
       "       [159, 100,  79],\n",
       "       [153, 111,  66],\n",
       "       [158,  93,  73],\n",
       "       [140, 154,  98],\n",
       "       [141, 148,  93],\n",
       "       [149, 110,  80],\n",
       "       [142, 158,  95],\n",
       "       [139, 156,  87],\n",
       "       [144, 145,  80],\n",
       "       [142, 164,  75],\n",
       "       [134, 169,  88],\n",
       "       [128, 171, 105],\n",
       "       [141, 137, 110],\n",
       "       [148, 125,  84],\n",
       "       [150, 132,  93],\n",
       "       [138, 159,  88],\n",
       "       [135, 161,  94],\n",
       "       [104, 141, 135],\n",
       "       [148, 137,  83],\n",
       "       [147, 148,  94],\n",
       "       [156, 101,  66],\n",
       "       [159,  96,  65]])"
      ]
     },
     "execution_count": 92,
     "metadata": {},
     "output_type": "execute_result"
    }
   ],
   "source": [
    "cloud2nifti(src, ref, out)"
   ]
  },
  {
   "cell_type": "code",
   "execution_count": null,
   "id": "da098c6b",
   "metadata": {},
   "outputs": [],
   "source": []
  },
  {
   "cell_type": "code",
   "execution_count": 162,
   "id": "a510137b",
   "metadata": {},
   "outputs": [],
   "source": [
    "lab = 'VERBAL_APRAXIA'\n",
    "emi = \"lh\"\n",
    "src_vol = '../data/derivatives/point_to_surf/des-cortical_roi-%s_%s.nii.gz' % (lab, emi)\n",
    "out_gii = '../data/derivatives/point_to_surf/des-cortical_roi-%s_%s_sfwhm-10.gii' % (lab, emi)"
   ]
  },
  {
   "cell_type": "code",
   "execution_count": 28,
   "id": "dfd596e3",
   "metadata": {},
   "outputs": [],
   "source": [
    "lab = 'SEMANTIC'\n",
    "emi = \"lh\"\n",
    "src_vol = os.path.join(out_gii, 'des-cortical_roi-%s_%s.nii.gz' % (lab, emi))\n",
    "out_gii = os.path.join(out_gii, 'des-cortical_roi-%s_%s_sfwhm-10.gii' % (lab, emi))"
   ]
  },
  {
   "cell_type": "code",
   "execution_count": 29,
   "id": "d5b4432d",
   "metadata": {},
   "outputs": [
    {
     "data": {
      "text/plain": [
       "'mri_vol2surf --mov /Volumes/paolo/Datasets/IntraOpMap/data/point_to_surf/des-cortical_roi-SEMANTIC_lh.nii.gz --surf pial --mni152reg --out /Volumes/paolo/Datasets/IntraOpMap/data/point_to_surf/des-cortical_roi-SEMANTIC_lh_sfwhm-10.gii --hemi lh --surf-fwhm 10'"
      ]
     },
     "execution_count": 29,
     "metadata": {},
     "output_type": "execute_result"
    }
   ],
   "source": [
    "cmd = \"mri_vol2surf --mov %s --surf pial --mni152reg --out %s --hemi lh --surf-fwhm 10\" % (src_vol, out_gii)\n",
    "cmd\n",
    "#os.system(cmd)"
   ]
  },
  {
   "cell_type": "code",
   "execution_count": 120,
   "id": "3c280ca4",
   "metadata": {},
   "outputs": [
    {
     "data": {
      "text/plain": [
       "'mri_vol2surf --vol2surf ../data/derivatives/point_to_surf/des-cortical_roi-ANOMIA_lh.nii.gz lh.pial.asc 1 10 1 mni2reg novsm 1 ../data/derivatives/point_to_surf/des-cortical_roi-ANOMIA_lh.gii'"
      ]
     },
     "execution_count": 120,
     "metadata": {},
     "output_type": "execute_result"
    }
   ],
   "source": [
    "lab = 'ANOMIA'\n",
    "emi = \"lh\"\n",
    "vol = '../data/derivatives/point_to_surf/des-cortical_roi-%s_%s.nii.gz' % (lab, emi)\n",
    "surf = \"lh.pial.asc\"\n",
    "projtype = \"1\"\n",
    "projdist = \"10\"\n",
    "projmap = \"1\"\n",
    "reg = \"mni2reg\"\n",
    "vsm = \"novsm\"\n",
    "interp = \"1\"\n",
    "out = '../data/derivatives/point_to_surf/des-cortical_roi-%s_%s.gii' % (lab, emi)\n",
    "cmd = \"mri_vol2surf --vol2surf %s %s %s %s %s %s %s %s %s\" % \\\n",
    "    (vol, surf, projtype, projdist, projmap, reg, vsm, interp, out)\n",
    "cmd"
   ]
  },
  {
   "cell_type": "code",
   "execution_count": 101,
   "id": "96895739",
   "metadata": {},
   "outputs": [
    {
     "name": "stdout",
     "output_type": "stream",
     "text": [
      "srcvol = ../data/derivatives/point_to_surf/des-cortical_roi-ANOMIA_lh.nii.gz\n",
      "srcreg = /Applications/freesurfer/7.1.1/average/mni152.register.dat\n",
      "srcregold = 0\n",
      "srcwarp unspecified\n",
      "surf = pial\n",
      "hemi = lh\n",
      "reshape = 0\n",
      "interp = nearest\n",
      "float2int = round\n",
      "GetProjMax = 0\n",
      "INFO: float2int code = 0\n",
      "niiRead(): NIFTI_UNITS_UNKNOWN, assuming mm\n",
      "niiRead(): detected input as 64 bit double, reading in as 32 bit float\n",
      "Done loading volume\n",
      "INFO: This REGISTER_DAT transform is valid only for volumes between  COR types with c_(r,a,s) = 0.\n",
      "Input reg is register.dat\n",
      "-------- original matrix -----------\n",
      " 0.99753  -0.00732   0.01760   0.95709;\n",
      "-0.01296  -0.00926   0.99706  -17.81596;\n",
      "-0.01460  -1.00094   0.00244  -18.54964;\n",
      " 0.00000   0.00000   0.00000   1.00000;\n",
      "-------- original matrix -----------\n",
      "INFO: smoothing volume at fwhm = 20 mm (std = 8.49322)\n",
      "Reading surface /Applications/freesurfer/7.1.1/subjects/fsaverage/surf/lh.pial\n",
      "Done reading source surface\n",
      "Mapping Source Volume onto Source Subject Surface\n",
      " 1 0 0 0\n",
      "using old\n",
      "Done mapping volume to surface\n",
      "Number of source voxels hit = 81314\n",
      "Writing to ../data/derivatives/point_to_surf/des-cortical_roi-ANOMIA_lh.gii\n",
      "Dim: 163842 1 1\n"
     ]
    },
    {
     "data": {
      "text/plain": [
       "0"
      ]
     },
     "execution_count": 101,
     "metadata": {},
     "output_type": "execute_result"
    }
   ],
   "source": [
    "os.system(cmd)\n"
   ]
  },
  {
   "cell_type": "code",
   "execution_count": 2,
   "id": "f7f879e4",
   "metadata": {},
   "outputs": [],
   "source": [
    "lab = 'ANOMIA'\n",
    "emi = \"lh\"\n",
    "ref_surf = '/Volumes/paolo/Downloads/point_to_surf/lh.pial.asc'\n",
    "src_vol = '../data/derivatives/point_to_surf/des-cortical_roi-%s_%s.nii.gz' % (lab, emi)\n",
    "out_gii = '../data/derivatives/point_to_surf/des-cortical_roi-%s_%s_fsl.gii' % (lab, emi)"
   ]
  },
  {
   "cell_type": "code",
   "execution_count": 33,
   "id": "ca1e99b2",
   "metadata": {},
   "outputs": [],
   "source": [
    "lab = 'SEMANTIC'\n",
    "emi = \"lh\"\n",
    "ref_surf = os.path.join(out_gii, 'lh.pial.asc')\n",
    "src_vol = os.path.join(out_gii, 'des-cortical_roi-%s_%s.nii.gz' % (lab, emi))\n",
    "out_surf = os.path.join(out_gii, 'des-cortical_roi-%s_%s_surf.gii' % (lab, emi))"
   ]
  },
  {
   "cell_type": "code",
   "execution_count": 34,
   "id": "7c8743bc",
   "metadata": {},
   "outputs": [
    {
     "data": {
      "text/plain": [
       "'surf_proj  --data=/Volumes/paolo/Datasets/IntraOpMap/data/point_to_surf/des-cortical_roi-SEMANTIC_lh.nii.gz --surf=/Volumes/paolo/Datasets/IntraOpMap/data/point_to_surf/lh.pial.asc --out=/Volumes/paolo/Datasets/IntraOpMap/data/point_to_surf/des-cortical_roi-SEMANTIC_lh_surf.gii --surfout'"
      ]
     },
     "execution_count": 34,
     "metadata": {},
     "output_type": "execute_result"
    }
   ],
   "source": [
    "cmd = \"surf_proj  --data=%s --surf=%s --out=%s --surfout\" % (src_vol, ref_surf, out_surf)\n",
    "cmd"
   ]
  },
  {
   "cell_type": "code",
   "execution_count": 104,
   "id": "132fe051",
   "metadata": {},
   "outputs": [
    {
     "name": "stdout",
     "output_type": "stream",
     "text": [
      "read data\n",
      "read surface\n",
      "project data\n",
      "save\n",
      "numda2 3\n",
      "write vertcies 163842\n",
      "write traingles 327680\n",
      "327680 163842\n",
      "resize trinagle array\n",
      "write faces 983040\n",
      "scalar 0 2\n",
      "set scalar names 1 MyScalars\n",
      "do memcpy \n",
      "scalar int 0\n",
      "done scalar\n",
      "null\n"
     ]
    },
    {
     "data": {
      "text/plain": [
       "0"
      ]
     },
     "execution_count": 104,
     "metadata": {},
     "output_type": "execute_result"
    }
   ],
   "source": [
    "os.system(cmd)"
   ]
  },
  {
   "cell_type": "code",
   "execution_count": 114,
   "id": "2eb0185f",
   "metadata": {},
   "outputs": [],
   "source": [
    "lab = 'ANOMIA'\n",
    "emi = \"lh\"\n",
    "src_gii = '../data/derivatives/point_to_surf/des-cortical_roi-%s_%s.gii' % (lab, emi)\n",
    "out_stl = '../data/derivatives/point_to_surf/des-cortical_roi-%s_%s.stl' % (lab, emi)"
   ]
  },
  {
   "cell_type": "code",
   "execution_count": 115,
   "id": "ea080dfb",
   "metadata": {},
   "outputs": [
    {
     "data": {
      "text/plain": [
       "'mris_convert ../data/derivatives/point_to_surf/des-cortical_roi-ANOMIA_lh.gii ../data/derivatives/point_to_surf/des-cortical_roi-ANOMIA_lh.stl'"
      ]
     },
     "execution_count": 115,
     "metadata": {},
     "output_type": "execute_result"
    }
   ],
   "source": [
    "cmd = \"mris_convert %s %s\" % (src_gii, out_stl)\n",
    "cmd"
   ]
  },
  {
   "cell_type": "code",
   "execution_count": 116,
   "id": "efce7d2d",
   "metadata": {},
   "outputs": [
    {
     "name": "stderr",
     "output_type": "stream",
     "text": [
      "mriseadGIFTIfile: mris is NULL! found when parsing file ../data/derivatives/point_to_surf/des-cortical_roi-ANOMIA_lh.gii\n",
      "error: Invalid argument\n",
      "error: mris_convert: could not read surface file ../data/derivatives/point_to_surf/des-cortical_roi-ANOMIA_lh.gii\u0000\n"
     ]
    },
    {
     "data": {
      "text/plain": [
       "65280"
      ]
     },
     "execution_count": 116,
     "metadata": {},
     "output_type": "execute_result"
    }
   ],
   "source": [
    "os.system(cmd)"
   ]
  },
  {
   "cell_type": "code",
   "execution_count": 156,
   "id": "1405910e",
   "metadata": {},
   "outputs": [
    {
     "name": "stdout",
     "output_type": "stream",
     "text": [
      "/Volumes/GoogleDrive/My Drive/Projects/NeuSurPlan_2021/IntraOpMap/code/preprocessing\n"
     ]
    }
   ],
   "source": [
    "%cd '/Volumes/GoogleDrive/My Drive/Projects/NeuSurPlan_2021/IntraOpMap/code/preprocessing'"
   ]
  },
  {
   "cell_type": "code",
   "execution_count": 157,
   "id": "bc92764f",
   "metadata": {},
   "outputs": [
    {
     "data": {
      "text/plain": [
       "'/Volumes/GoogleDrive/My Drive/Projects/NeuSurPlan_2021/IntraOpMap/code/preprocessing'"
      ]
     },
     "execution_count": 157,
     "metadata": {},
     "output_type": "execute_result"
    }
   ],
   "source": [
    "pwd"
   ]
  },
  {
   "cell_type": "code",
   "execution_count": 83,
   "id": "082d0851",
   "metadata": {},
   "outputs": [
    {
     "name": "stdout",
     "output_type": "stream",
     "text": [
      "\u001b[31mMNI152_T1_1mm_brain.stl\u001b[m\u001b[m*\r\n",
      "\u001b[31mMNI152_T1_1mm_brain_lh.gii\u001b[m\u001b[m*\r\n",
      "\u001b[31mMNI152_T1_1mm_brain_lh.stl\u001b[m\u001b[m*\r\n",
      "\u001b[31mMNI152_T1_1mm_brain_lh_hole.ply\u001b[m\u001b[m*\r\n",
      "\u001b[31mdes-cortical_batch-03_roi-MOTOR_lh.csv\u001b[m\u001b[m*\r\n",
      "\u001b[31mdes-cortical_batch-03_roi-MOTOR_lh.gii\u001b[m\u001b[m*\r\n",
      "\u001b[31mdes-cortical_batch-03_roi-MOTOR_lh.nii.gz\u001b[m\u001b[m*\r\n",
      "\u001b[31mdes-cortical_batch-03_roi-MOTOR_lh.ply\u001b[m\u001b[m*\r\n",
      "\u001b[31mdes-cortical_batch-03_roi-MOTOR_lh_fwhm-10.gii\u001b[m\u001b[m*\r\n",
      "\u001b[31mdes-cortical_batch-03_roi-MOTOR_lh_fwhm-20.gii\u001b[m\u001b[m*\r\n",
      "\u001b[31mdes-cortical_roi-SPEECH_ARREST_lh.nii.gz\u001b[m\u001b[m*\r\n",
      "\u001b[31mdes-cortical_roi-VERBAL_APRAXIA_lh.nii.gz\u001b[m\u001b[m*\r\n",
      "\u001b[31morig.nii.gz\u001b[m\u001b[m*\r\n",
      "\u001b[31mrh.MNI152_T1_1mm_brain.gii\u001b[m\u001b[m*\r\n"
     ]
    }
   ],
   "source": [
    "ls ../data/derivatives/point_to_surf"
   ]
  },
  {
   "cell_type": "code",
   "execution_count": 112,
   "id": "ff256385",
   "metadata": {},
   "outputs": [
    {
     "name": "stdout",
     "output_type": "stream",
     "text": [
      "\u001b[31m../data/derivatives/point_to_surf/des-cortical_roi-ANOMIA_lh.gii\u001b[m\u001b[m*\r\n"
     ]
    }
   ],
   "source": [
    "ls ../data/derivatives/point_to_surf/des-cortical_roi-ANOMIA_lh.gii"
   ]
  },
  {
   "cell_type": "code",
   "execution_count": 132,
   "id": "123ffa34",
   "metadata": {},
   "outputs": [],
   "source": [
    "img = nib.load('../metadata/MNI152/MNI152_T1_1mm.nii.gz')\n"
   ]
  },
  {
   "cell_type": "code",
   "execution_count": 141,
   "id": "38925a80",
   "metadata": {},
   "outputs": [],
   "source": [
    "img.header.set_xyzt_units(\"mm\", \"sec\")"
   ]
  },
  {
   "cell_type": "code",
   "execution_count": 134,
   "id": "49a6ff33",
   "metadata": {},
   "outputs": [
    {
     "data": {
      "text/plain": [
       "(None, None, None)"
      ]
     },
     "execution_count": 134,
     "metadata": {},
     "output_type": "execute_result"
    }
   ],
   "source": [
    "img.header.get_dim_info()"
   ]
  },
  {
   "cell_type": "code",
   "execution_count": 135,
   "id": "f6f34347",
   "metadata": {},
   "outputs": [
    {
     "data": {
      "text/plain": [
       "dtype('<f4')"
      ]
     },
     "execution_count": 135,
     "metadata": {},
     "output_type": "execute_result"
    }
   ],
   "source": [
    "img.header.get_data_dtype()"
   ]
  },
  {
   "cell_type": "code",
   "execution_count": 142,
   "id": "09059d2e",
   "metadata": {},
   "outputs": [
    {
     "data": {
      "text/plain": [
       "('mm', 'sec')"
      ]
     },
     "execution_count": 142,
     "metadata": {},
     "output_type": "execute_result"
    }
   ],
   "source": [
    "img.header.get_xyzt_units()"
   ]
  },
  {
   "cell_type": "code",
   "execution_count": 138,
   "id": "28a6e4ae",
   "metadata": {},
   "outputs": [
    {
     "ename": "AttributeError",
     "evalue": "'tuple' object has no attribute 'dtype'",
     "output_type": "error",
     "traceback": [
      "\u001b[0;31m---------------------------------------------------------------------------\u001b[0m",
      "\u001b[0;31mAttributeError\u001b[0m                            Traceback (most recent call last)",
      "Input \u001b[0;32mIn [138]\u001b[0m, in \u001b[0;36m<cell line: 1>\u001b[0;34m()\u001b[0m\n\u001b[0;32m----> 1\u001b[0m \u001b[43munit\u001b[49m\u001b[38;5;241;43m.\u001b[39;49m\u001b[43mdtype\u001b[49m()\n",
      "\u001b[0;31mAttributeError\u001b[0m: 'tuple' object has no attribute 'dtype'"
     ]
    }
   ],
   "source": []
  },
  {
   "cell_type": "code",
   "execution_count": 147,
   "id": "171bb925",
   "metadata": {},
   "outputs": [],
   "source": [
    "nib.Nifti1Image?"
   ]
  },
  {
   "cell_type": "code",
   "execution_count": 151,
   "id": "f730abcf",
   "metadata": {},
   "outputs": [],
   "source": [
    "import dipy.stats.analysis as dsa"
   ]
  },
  {
   "cell_type": "code",
   "execution_count": 152,
   "id": "a63e3491",
   "metadata": {},
   "outputs": [],
   "source": [
    "dsa.gaussian_weights?"
   ]
  },
  {
   "cell_type": "code",
   "execution_count": 168,
   "id": "2334f5d4",
   "metadata": {},
   "outputs": [
    {
     "data": {
      "text/plain": [
       "31"
      ]
     },
     "execution_count": 168,
     "metadata": {},
     "output_type": "execute_result"
    }
   ],
   "source": [
    "int(\"31\")"
   ]
  },
  {
   "cell_type": "code",
   "execution_count": null,
   "id": "d3fbaf61",
   "metadata": {},
   "outputs": [],
   "source": []
  }
 ],
 "metadata": {
  "kernelspec": {
   "display_name": "Python 3 (ipykernel)",
   "language": "python",
   "name": "python3"
  },
  "language_info": {
   "codemirror_mode": {
    "name": "ipython",
    "version": 3
   },
   "file_extension": ".py",
   "mimetype": "text/x-python",
   "name": "python",
   "nbconvert_exporter": "python",
   "pygments_lexer": "ipython3",
   "version": "3.7.13"
  }
 },
 "nbformat": 4,
 "nbformat_minor": 5
}
