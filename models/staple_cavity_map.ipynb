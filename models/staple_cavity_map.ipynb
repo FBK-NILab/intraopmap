{
 "cells": [
  {
   "cell_type": "code",
   "execution_count": 1,
   "id": "7067b1aa",
   "metadata": {},
   "outputs": [],
   "source": [
    "src_nii = '/home/paolo/Datasets/IntraOpMap/data/cavities_by_function'\n",
    "out_nii = '/home/paolo/Datasets/IntraOpMap/data/cavities_maps'"
   ]
  },
  {
   "cell_type": "code",
   "execution_count": 2,
   "id": "b757bb70",
   "metadata": {},
   "outputs": [],
   "source": [
    "import os"
   ]
  },
  {
   "cell_type": "code",
   "execution_count": 9,
   "id": "973490ad",
   "metadata": {},
   "outputs": [],
   "source": [
    "categories =['AMODAL_ANOMIA', \n",
    "             'ANOMIA', \n",
    "             'EYES_MOVEMENT', \n",
    "             'INVOLUNTARY_MOVEMENTS', \n",
    "             'MOTOR', \n",
    "             'MOVEMENT_ARREST', \n",
    "             'MOVEMENT_VERBAL_ARREST', \n",
    "             'PERSEVERATIONS', \n",
    "             'PHONOLOGICAL', \n",
    "             'READING', \n",
    "             'SEMANTIC', \n",
    "             'SENSORIAL', \n",
    "             'SPATIAL_PERCEPTION', \n",
    "             'SPEECH_ARREST', \n",
    "             'VERBAL_APRAXIA', \n",
    "             'VISUAL', \n",
    "             'VISUO_SPATIAL']"
   ]
  },
  {
   "cell_type": "code",
   "execution_count": 13,
   "id": "692ef299",
   "metadata": {},
   "outputs": [
    {
     "name": "stdout",
     "output_type": "stream",
     "text": [
      " 5 AMODAL_ANOMIA\n",
      "31 ANOMIA\n",
      " 2 EYES_MOVEMENT\n",
      " 7 INVOLUNTARY_MOVEMENTS\n",
      "89 MOTOR\n",
      " 3 MOVEMENT_ARREST\n",
      " 4 MOVEMENT_VERBAL_ARREST\n",
      "12 PERSEVERATIONS\n",
      "42 PHONOLOGICAL\n",
      " 5 READING\n",
      "54 SEMANTIC\n",
      "35 SENSORIAL\n",
      "11 SPATIAL_PERCEPTION\n",
      "76 SPEECH_ARREST\n",
      "48 VERBAL_APRAXIA\n",
      " 8 VISUAL\n",
      " 7 VISUO_SPATIAL\n"
     ]
    }
   ],
   "source": [
    "for c in categories:\n",
    "    num = len(os.listdir(os.path.join(src_nii, c)))\n",
    "    print(\"%2d %s\" % (num, c))"
   ]
  },
  {
   "cell_type": "code",
   "execution_count": 30,
   "id": "54fe9c53",
   "metadata": {},
   "outputs": [],
   "source": [
    "def staple_map(category):\n",
    "    cavities = os.listdir(os.path.join(src_nii, category))\n",
    "    src_dir = os.path.join(src_nii, category)\n",
    "    out_map = os.path.join(out_nii, 'cavity_map_%s.nii.gz' % category)\n",
    "    c3d = '/home/photogrammetry/C3D/bin/c3d'\n",
    "    cmd = \"cd %s; %s -verbose %s -staple 1 -o %s\" % (src_dir, c3d, ' '.join(cavities), out_map)\n",
    "    return cmd"
   ]
  },
  {
   "cell_type": "code",
   "execution_count": 39,
   "id": "57c144d1",
   "metadata": {},
   "outputs": [],
   "source": [
    "def all_staple_map():\n",
    "    for c in categories:\n",
    "        os.system(staple_map(c))"
   ]
  },
  {
   "cell_type": "code",
   "execution_count": 41,
   "id": "1820d0f1",
   "metadata": {},
   "outputs": [],
   "source": [
    "all_staple_map()"
   ]
  },
  {
   "cell_type": "code",
   "execution_count": 48,
   "id": "3dd6e959",
   "metadata": {},
   "outputs": [],
   "source": [
    "def merge_map(category):\n",
    "    cavities = os.listdir(os.path.join(src_nii, category))\n",
    "    src_dir = os.path.join(src_nii, category)\n",
    "    out_map = os.path.join(out_nii, 'cavity_sum_%s.nii.gz' % category)\n",
    "    fsl = '/usr/local/fsl/bin/fslmaths'\n",
    "    cmd = \"cd %s; %s %s %s\" % (src_dir, fsl, ' -add '.join(cavities), out_map)\n",
    "    return cmd"
   ]
  },
  {
   "cell_type": "code",
   "execution_count": 53,
   "id": "17d0e1ed",
   "metadata": {},
   "outputs": [],
   "source": [
    "def all_merge_map():\n",
    "    for c in categories:\n",
    "        os.system(merge_map(c))"
   ]
  },
  {
   "cell_type": "code",
   "execution_count": 54,
   "id": "80a0553a",
   "metadata": {},
   "outputs": [],
   "source": [
    "all_merge_map()"
   ]
  },
  {
   "cell_type": "code",
   "execution_count": 49,
   "id": "d0ac8a9d",
   "metadata": {},
   "outputs": [
    {
     "data": {
      "text/plain": [
       "'cd /home/paolo/Datasets/IntraOpMap/data/cavities_by_function/AMODAL_ANOMIA; /usr/local/fsl/bin/fslmaths Roman_Louis_cavity_to_MNI_flirt.nii.gz -add Dubois_Philippe_cavity_to_MNI_flirt.nii.gz -add Schneider_Patricia_cavity_to_MNI_flirt.nii.gz -add Nouar_Kamel_cavity_to_MNI_flirt.nii.gz -add Parazols_Corine_cavity_to_MNI_flirt.nii.gz /home/paolo/Datasets/IntraOpMap/data/cavities_maps/cavity_sum_AMODAL_ANOMIA.nii.gz'"
      ]
     },
     "execution_count": 49,
     "metadata": {},
     "output_type": "execute_result"
    }
   ],
   "source": [
    "cmd = merge_map('AMODAL_ANOMIA')\n",
    "cmd"
   ]
  },
  {
   "cell_type": "code",
   "execution_count": 50,
   "id": "a007341e",
   "metadata": {},
   "outputs": [
    {
     "data": {
      "text/plain": [
       "0"
      ]
     },
     "execution_count": 50,
     "metadata": {},
     "output_type": "execute_result"
    }
   ],
   "source": [
    "os.system(cmd)"
   ]
  },
  {
   "cell_type": "markdown",
   "id": "116c3449",
   "metadata": {},
   "source": [
    "---"
   ]
  },
  {
   "cell_type": "markdown",
   "id": "f52a5373",
   "metadata": {},
   "source": [
    "Sandbox"
   ]
  },
  {
   "cell_type": "code",
   "execution_count": 5,
   "id": "0484a008",
   "metadata": {},
   "outputs": [],
   "source": [
    "roi_amodal_anomia = os.listdir(os.path.join(src_nii, 'AMODAL_ANOMIA'))"
   ]
  },
  {
   "cell_type": "code",
   "execution_count": 6,
   "id": "d4dfd33f",
   "metadata": {},
   "outputs": [
    {
     "data": {
      "text/plain": [
       "['Roman_Louis_cavity_to_MNI_flirt.nii.gz',\n",
       " 'Dubois_Philippe_cavity_to_MNI_flirt.nii.gz',\n",
       " 'Schneider_Patricia_cavity_to_MNI_flirt.nii.gz',\n",
       " 'Nouar_Kamel_cavity_to_MNI_flirt.nii.gz',\n",
       " 'Parazols_Corine_cavity_to_MNI_flirt.nii.gz']"
      ]
     },
     "execution_count": 6,
     "metadata": {},
     "output_type": "execute_result"
    }
   ],
   "source": [
    "roi_amodal_anomia"
   ]
  },
  {
   "cell_type": "code",
   "execution_count": 35,
   "id": "d1b9f9b2",
   "metadata": {},
   "outputs": [
    {
     "data": {
      "text/plain": [
       "['ANOMIA',\n",
       " 'EYES_MOVEMENT',\n",
       " 'INVOLUNTARY_MOVEMENTS',\n",
       " 'MOTOR',\n",
       " 'MOVEMENT_ARREST',\n",
       " 'MOVEMENT_VERBAL_ARREST',\n",
       " 'PERSEVERATIONS',\n",
       " 'PHONOLOGICAL',\n",
       " 'READING',\n",
       " 'SEMANTIC',\n",
       " 'SENSORIAL',\n",
       " 'SPATIAL_PERCEPTION',\n",
       " 'SPEECH_ARREST',\n",
       " 'VERBAL_APRAXIA',\n",
       " 'VISUAL',\n",
       " 'VISUO_SPATIAL']"
      ]
     },
     "execution_count": 35,
     "metadata": {},
     "output_type": "execute_result"
    }
   ],
   "source": [
    "categories[1:]"
   ]
  },
  {
   "cell_type": "code",
   "execution_count": null,
   "id": "7ea0953b",
   "metadata": {},
   "outputs": [],
   "source": []
  }
 ],
 "metadata": {
  "kernelspec": {
   "display_name": "Python 3",
   "language": "python",
   "name": "python3"
  },
  "language_info": {
   "codemirror_mode": {
    "name": "ipython",
    "version": 3
   },
   "file_extension": ".py",
   "mimetype": "text/x-python",
   "name": "python",
   "nbconvert_exporter": "python",
   "pygments_lexer": "ipython3",
   "version": "3.9.2"
  }
 },
 "nbformat": 4,
 "nbformat_minor": 5
}
