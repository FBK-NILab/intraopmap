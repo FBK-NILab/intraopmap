{
 "cells": [
  {
   "cell_type": "code",
   "execution_count": 1,
   "id": "b8980334",
   "metadata": {},
   "outputs": [],
   "source": [
    "import os, re"
   ]
  },
  {
   "cell_type": "code",
   "execution_count": 71,
   "id": "aadf8cc2",
   "metadata": {},
   "outputs": [],
   "source": [
    "src_dwi = '/nilab-qnap/datasets/TractoInferno/derivatives/testset'\n",
    "src_des = '/home/paolo/Datasets/IntraOpMap/data/des_trk/registered_points'\n",
    "src_roi = '/home/paolo/Datasets/IntraOpMap/data/des_trk/reg_networks'\n",
    "out_dir = '/home/paolo/Datasets/IntraOpMap/data/des_trk'"
   ]
  },
  {
   "cell_type": "code",
   "execution_count": 72,
   "id": "634af416",
   "metadata": {},
   "outputs": [],
   "source": [
    "mni = 'linear' # 'linear' 'non_linear'"
   ]
  },
  {
   "cell_type": "code",
   "execution_count": 73,
   "id": "59b8b771",
   "metadata": {},
   "outputs": [],
   "source": [
    "roi = 'hubs' # 'hubs' 'net'"
   ]
  },
  {
   "cell_type": "code",
   "execution_count": 74,
   "id": "fd332fa6",
   "metadata": {},
   "outputs": [],
   "source": [
    "sub = '1006' # '1006' '1019' '1024'"
   ]
  },
  {
   "cell_type": "code",
   "execution_count": 75,
   "id": "d6ce28bd",
   "metadata": {},
   "outputs": [],
   "source": [
    "psy = 'SEMANTIC'"
   ]
  },
  {
   "cell_type": "code",
   "execution_count": 164,
   "id": "29c72f52",
   "metadata": {},
   "outputs": [],
   "source": [
    "dir_t1w = '%s/sub-%s/anat' % (src_dwi, sub)\n",
    "dir_odf = '%s/sub-%s/fodf' % (src_dwi, sub)\n",
    "dir_3tt = '%s/sub-%s/mask' % (src_dwi, sub)\n",
    "dir_des = '%s/%s/sub-%s' % (src_des, mni, sub)\n",
    "dir_roi = '%s/%s/sub-%s' % (src_roi, mni, sub)"
   ]
  },
  {
   "cell_type": "code",
   "execution_count": 193,
   "id": "e524b5b6",
   "metadata": {},
   "outputs": [],
   "source": [
    "src_t1w = '%s/sub-%s__T1w.nii.gz' % (dir_t1w, sub)\n",
    "src_odf = '%s/sub-%s__fodf.nii.gz' % (dir_odf, sub)\n",
    "src_gm = '%s/sub-%s__mask_gm.nii.gz' % (dir_3tt, sub)\n",
    "src_wm = '%s/sub-%s__mask_wm.nii.gz' % (dir_3tt, sub)\n",
    "src_csf = '%s/sub-%s__mask_csf.nii.gz' % (dir_3tt, sub)\n",
    "src_map = '%s/sub-%s_%s_%s_%s.nii.gz' % (dir_roi, sub, psy, roi, mni)\n",
    "src_sti = os.listdir(dir_des)"
   ]
  },
  {
   "cell_type": "code",
   "execution_count": 173,
   "id": "14e0a0b3",
   "metadata": {},
   "outputs": [
    {
     "data": {
      "text/plain": [
       "32512"
      ]
     },
     "execution_count": 173,
     "metadata": {},
     "output_type": "execute_result"
    }
   ],
   "source": [
    "out_5tt = '%s/sub-%s__5tt.nii.gz' % (out_dir, sub)\n",
    "cmd = \"fslmerge -t -f %s %s %s %s %s %s\" % (out_5tt, src_gm, src_gm, src_gm, src_gm, src_gm)\n",
    "os.system(cmd)"
   ]
  },
  {
   "cell_type": "code",
   "execution_count": 174,
   "id": "08f1d084",
   "metadata": {},
   "outputs": [
    {
     "data": {
      "text/plain": [
       "0"
      ]
     },
     "execution_count": 174,
     "metadata": {},
     "output_type": "execute_result"
    }
   ],
   "source": [
    "cmd = '5ttedit -cgm %s -wm %s -csf %s %s %s -force' % (src_gm, src_wm, src_csf, out_5tt, out_5tt)\n",
    "os.system(cmd)"
   ]
  },
  {
   "cell_type": "code",
   "execution_count": 175,
   "id": "4e6c8d08",
   "metadata": {},
   "outputs": [
    {
     "data": {
      "text/plain": [
       "0"
      ]
     },
     "execution_count": 175,
     "metadata": {},
     "output_type": "execute_result"
    }
   ],
   "source": [
    "tag_seed = 'c4'\n",
    "tag_stop = 'c5'\n",
    "src_seed = src_map.replace('.nii.gz','_%s.nii.gz' % tag_seed)\n",
    "src_stop = src_map.replace('.nii.gz','_%s.nii.gz' % tag_stop)\n",
    "gmwmi_seed = '%s/sub-%s_%s_%s_%s_%s.nii.gz' % (out_dir, sub, psy, roi, mni, tag_seed)\n",
    "gmwmi_stop = '%s/sub-%s_%s_%s_%s_%s.nii.gz' % (out_dir, sub, psy, roi, mni, tag_stop)\n",
    "cmd = '5tt2gmwmi -force -mask_in %s %s %s' % (src_seed, out_5tt, gmwmi_seed)\n",
    "os.system(cmd)\n",
    "cmd = '5tt2gmwmi -force -mask_in %s %s %s' % (src_stop, out_5tt, gmwmi_stop)\n",
    "os.system(cmd)"
   ]
  },
  {
   "cell_type": "code",
   "execution_count": 194,
   "id": "4381e7e3",
   "metadata": {},
   "outputs": [],
   "source": [
    "run_sti = src_sti[2]"
   ]
  },
  {
   "cell_type": "code",
   "execution_count": 120,
   "id": "60a6ad75",
   "metadata": {},
   "outputs": [],
   "source": [
    "tck_tag = os.path.basename(run_sti)\n",
    "del_tag = 'sub-%s_%s_|_%s.nii.gz' % (sub, psy, mni)\n",
    "tck_tag = re.sub(del_tag,'',tck_tag)"
   ]
  },
  {
   "cell_type": "code",
   "execution_count": 180,
   "id": "d43a15ae",
   "metadata": {},
   "outputs": [],
   "source": [
    "p_algorithm = 'SD_STREAM' # 'SD_STREAM' 'iFOD2'\n",
    "p_trial = '1000'\n",
    "p_cutoff = '0.05'\n",
    "p_step = '1.0'\n",
    "p_angle = '30'\n",
    "p_seed_image = '%s/%s' % (dir_des, run_sti)\n",
    "p_seed_num = '100'\n",
    "p_include = src_map\n",
    "out_des = '%s/sub-%s_%s_SEED' % (out_dir, sub, tck_tag)\n",
    "out_tck = '%s/sub-%s_%s.tck' % (out_dir, sub, tck_tag)"
   ]
  },
  {
   "cell_type": "code",
   "execution_count": 129,
   "id": "4b564c88",
   "metadata": {},
   "outputs": [],
   "source": [
    "p_seed_image = src_map\n",
    "p_include = src_map"
   ]
  },
  {
   "cell_type": "code",
   "execution_count": 135,
   "id": "7f838767",
   "metadata": {},
   "outputs": [],
   "source": [
    "p_seed_image = src_map.replace('.nii.gz','_c4.nii.gz')\n",
    "p_include = src_map.replace('.nii.gz','_c5.nii.gz')"
   ]
  },
  {
   "cell_type": "code",
   "execution_count": 176,
   "id": "f1115dc3",
   "metadata": {},
   "outputs": [],
   "source": [
    "p_seed_image = gmwmi_seed\n",
    "p_include = gmwmi_stop"
   ]
  },
  {
   "cell_type": "code",
   "execution_count": 210,
   "id": "01fa519a",
   "metadata": {},
   "outputs": [],
   "source": [
    "p_seed_image = '%s/%s' % (dir_des, run_sti)\n",
    "p_include = gmwmi_stop"
   ]
  },
  {
   "cell_type": "code",
   "execution_count": 203,
   "id": "c22bfdae",
   "metadata": {},
   "outputs": [],
   "source": [
    "p_seed_image = '%s/%s' % (dir_des, run_sti)\n",
    "p_include = gmwmi_seed"
   ]
  },
  {
   "cell_type": "markdown",
   "id": "845cd486",
   "metadata": {},
   "source": [
    "DES to HUB Tracking"
   ]
  },
  {
   "cell_type": "code",
   "execution_count": 204,
   "id": "195ba901",
   "metadata": {},
   "outputs": [],
   "source": [
    "cmd = 'tckgen \\\n",
    "        -algorithm %s -cutoff %s -step %s -angle %s -include %s -stop -seed_unidirectional -force \\\n",
    "        -seed_random_per_voxel %s %s -output_seeds %s %s %s' % \\\n",
    "        (p_algorithm, p_cutoff, p_step, p_angle, p_include, p_seed_image, p_seed_num, out_des, src_odf, out_tck)"
   ]
  },
  {
   "cell_type": "markdown",
   "id": "19095b09",
   "metadata": {},
   "source": [
    "HUB to HUB Tracking"
   ]
  },
  {
   "cell_type": "code",
   "execution_count": 211,
   "id": "9b5fac12",
   "metadata": {},
   "outputs": [],
   "source": [
    "cmd = 'tckgen \\\n",
    "        -algorithm %s -cutoff %s -step %s -angle %s -include %s -stop -seed_unidirectional -force \\\n",
    "        -seed_image %s %s %s' % \\\n",
    "        (p_algorithm, p_cutoff, p_step, p_angle, p_include, p_seed_image, src_odf, out_tck)"
   ]
  },
  {
   "cell_type": "code",
   "execution_count": 212,
   "id": "90a51e15",
   "metadata": {},
   "outputs": [
    {
     "data": {
      "text/plain": [
       "'tckgen         -algorithm SD_STREAM -cutoff 0.05 -step 1.0 -angle 30 -include /home/paolo/Datasets/IntraOpMap/data/des_trk/sub-1006_SEMANTIC_hubs_linear_c5.nii.gz -stop -seed_unidirectional -force         -seed_image /home/paolo/Datasets/IntraOpMap/data/des_trk/registered_points/linear/sub-1006/sub-1006_SEMANTIC_-44_-6_-14_sub-1117_linear.nii.gz /nilab-qnap/datasets/TractoInferno/derivatives/testset/sub-1006/fodf/sub-1006__fodf.nii.gz /home/paolo/Datasets/IntraOpMap/data/des_trk/sub-1006_-44_-6_-14_sub-1117.tck'"
      ]
     },
     "execution_count": 212,
     "metadata": {},
     "output_type": "execute_result"
    }
   ],
   "source": [
    "cmd"
   ]
  },
  {
   "cell_type": "code",
   "execution_count": 213,
   "id": "8b45bd85",
   "metadata": {},
   "outputs": [
    {
     "data": {
      "text/plain": [
       "0"
      ]
     },
     "execution_count": 213,
     "metadata": {},
     "output_type": "execute_result"
    }
   ],
   "source": [
    "os.system(cmd)"
   ]
  },
  {
   "cell_type": "code",
   "execution_count": 134,
   "id": "5204dc15",
   "metadata": {},
   "outputs": [
    {
     "data": {
      "text/plain": [
       "'/home/paolo/Datasets/IntraOpMap/data/des_trk/reg_networks/linear/sub-1006/sub-1006_SEMANTIC_hubs_linear_c4.nii.gz'"
      ]
     },
     "execution_count": 134,
     "metadata": {},
     "output_type": "execute_result"
    }
   ],
   "source": [
    "src_map.replace('.nii.gz','_c4.nii.gz')"
   ]
  },
  {
   "cell_type": "code",
   "execution_count": null,
   "id": "caa1127b",
   "metadata": {},
   "outputs": [],
   "source": [
    "os.path."
   ]
  }
 ],
 "metadata": {
  "kernelspec": {
   "display_name": "Python 3",
   "language": "python",
   "name": "python3"
  },
  "language_info": {
   "codemirror_mode": {
    "name": "ipython",
    "version": 3
   },
   "file_extension": ".py",
   "mimetype": "text/x-python",
   "name": "python",
   "nbconvert_exporter": "python",
   "pygments_lexer": "ipython3",
   "version": "3.9.2"
  }
 },
 "nbformat": 4,
 "nbformat_minor": 5
}
